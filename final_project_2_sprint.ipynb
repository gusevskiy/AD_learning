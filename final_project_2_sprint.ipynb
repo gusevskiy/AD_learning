{
 "cells": [
  {
   "cell_type": "markdown",
   "id": "386f2ae7",
   "metadata": {
    "deletable": false,
    "editable": false,
    "id": "386f2ae7"
   },
   "source": [
    "# Исследование надежности заемщиков\n"
   ]
  },
  {
   "cell_type": "markdown",
   "id": "300ac5a4",
   "metadata": {},
   "source": [
    "### Задачи:\n",
    "1) Подготовить данные для анализа, провести предобработку\n",
    "2) Иследовать данные и ответить на вопросы:\n",
    "    * Есть ли зависимость между количеством детей и возвратом кредита в срок?\n",
    "    * Есть ли зависимость между семейным положением и возвратом кредита в срок?\n",
    "    * Есть ли зависимость между уровнем дохода и возвратом кредита в срок?\n",
    "    * Как разные цели кредита влияют на его возврат в срок?\n",
    "  "
   ]
  },
  {
   "cell_type": "markdown",
   "id": "6b05c478",
   "metadata": {},
   "source": [
    "## Подготовка к иследованию"
   ]
  },
  {
   "cell_type": "code",
   "execution_count": null,
   "id": "77a68a90",
   "metadata": {
    "deletable": false,
    "id": "77a68a90"
   },
   "outputs": [],
   "source": [
    "import pandas as pd\n",
    "import matplotlib.pyplot as plt\n",
    "import seaborn\n",
    "\n",
    "try:\n",
    "    data = pd.read_csv('/datasets/data.csv')\n",
    "except:\n",
    "    data = pd.read_csv('https://code.s3.yandex.net/datasets/data.csv')"
   ]
  },
  {
   "cell_type": "markdown",
   "id": "45365635",
   "metadata": {
    "deletable": false,
    "editable": false,
    "id": "45365635"
   },
   "source": [
    "посмотрим на данные"
   ]
  },
  {
   "cell_type": "code",
   "execution_count": 2,
   "id": "b0451a9a",
   "metadata": {
    "deletable": false,
    "id": "b0451a9a",
    "outputId": "1a8f3ef2-d323-4ec2-ddf7-89670b5944c4"
   },
   "outputs": [
    {
     "data": {
      "text/html": [
       "<div>\n",
       "<style scoped>\n",
       "    .dataframe tbody tr th:only-of-type {\n",
       "        vertical-align: middle;\n",
       "    }\n",
       "\n",
       "    .dataframe tbody tr th {\n",
       "        vertical-align: top;\n",
       "    }\n",
       "\n",
       "    .dataframe thead th {\n",
       "        text-align: right;\n",
       "    }\n",
       "</style>\n",
       "<table border=\"1\" class=\"dataframe\">\n",
       "  <thead>\n",
       "    <tr style=\"text-align: right;\">\n",
       "      <th></th>\n",
       "      <th>children</th>\n",
       "      <th>days_employed</th>\n",
       "      <th>dob_years</th>\n",
       "      <th>education</th>\n",
       "      <th>education_id</th>\n",
       "      <th>family_status</th>\n",
       "      <th>family_status_id</th>\n",
       "      <th>gender</th>\n",
       "      <th>income_type</th>\n",
       "      <th>debt</th>\n",
       "      <th>total_income</th>\n",
       "      <th>purpose</th>\n",
       "    </tr>\n",
       "  </thead>\n",
       "  <tbody>\n",
       "    <tr>\n",
       "      <th>0</th>\n",
       "      <td>1</td>\n",
       "      <td>-8437.673028</td>\n",
       "      <td>42</td>\n",
       "      <td>высшее</td>\n",
       "      <td>0</td>\n",
       "      <td>женат / замужем</td>\n",
       "      <td>0</td>\n",
       "      <td>F</td>\n",
       "      <td>сотрудник</td>\n",
       "      <td>0</td>\n",
       "      <td>253875.639453</td>\n",
       "      <td>покупка жилья</td>\n",
       "    </tr>\n",
       "    <tr>\n",
       "      <th>1</th>\n",
       "      <td>1</td>\n",
       "      <td>-4024.803754</td>\n",
       "      <td>36</td>\n",
       "      <td>среднее</td>\n",
       "      <td>1</td>\n",
       "      <td>женат / замужем</td>\n",
       "      <td>0</td>\n",
       "      <td>F</td>\n",
       "      <td>сотрудник</td>\n",
       "      <td>0</td>\n",
       "      <td>112080.014102</td>\n",
       "      <td>приобретение автомобиля</td>\n",
       "    </tr>\n",
       "    <tr>\n",
       "      <th>2</th>\n",
       "      <td>0</td>\n",
       "      <td>-5623.422610</td>\n",
       "      <td>33</td>\n",
       "      <td>Среднее</td>\n",
       "      <td>1</td>\n",
       "      <td>женат / замужем</td>\n",
       "      <td>0</td>\n",
       "      <td>M</td>\n",
       "      <td>сотрудник</td>\n",
       "      <td>0</td>\n",
       "      <td>145885.952297</td>\n",
       "      <td>покупка жилья</td>\n",
       "    </tr>\n",
       "    <tr>\n",
       "      <th>3</th>\n",
       "      <td>3</td>\n",
       "      <td>-4124.747207</td>\n",
       "      <td>32</td>\n",
       "      <td>среднее</td>\n",
       "      <td>1</td>\n",
       "      <td>женат / замужем</td>\n",
       "      <td>0</td>\n",
       "      <td>M</td>\n",
       "      <td>сотрудник</td>\n",
       "      <td>0</td>\n",
       "      <td>267628.550329</td>\n",
       "      <td>дополнительное образование</td>\n",
       "    </tr>\n",
       "    <tr>\n",
       "      <th>4</th>\n",
       "      <td>0</td>\n",
       "      <td>340266.072047</td>\n",
       "      <td>53</td>\n",
       "      <td>среднее</td>\n",
       "      <td>1</td>\n",
       "      <td>гражданский брак</td>\n",
       "      <td>1</td>\n",
       "      <td>F</td>\n",
       "      <td>пенсионер</td>\n",
       "      <td>0</td>\n",
       "      <td>158616.077870</td>\n",
       "      <td>сыграть свадьбу</td>\n",
       "    </tr>\n",
       "    <tr>\n",
       "      <th>5</th>\n",
       "      <td>0</td>\n",
       "      <td>-926.185831</td>\n",
       "      <td>27</td>\n",
       "      <td>высшее</td>\n",
       "      <td>0</td>\n",
       "      <td>гражданский брак</td>\n",
       "      <td>1</td>\n",
       "      <td>M</td>\n",
       "      <td>компаньон</td>\n",
       "      <td>0</td>\n",
       "      <td>255763.565419</td>\n",
       "      <td>покупка жилья</td>\n",
       "    </tr>\n",
       "    <tr>\n",
       "      <th>6</th>\n",
       "      <td>0</td>\n",
       "      <td>-2879.202052</td>\n",
       "      <td>43</td>\n",
       "      <td>высшее</td>\n",
       "      <td>0</td>\n",
       "      <td>женат / замужем</td>\n",
       "      <td>0</td>\n",
       "      <td>F</td>\n",
       "      <td>компаньон</td>\n",
       "      <td>0</td>\n",
       "      <td>240525.971920</td>\n",
       "      <td>операции с жильем</td>\n",
       "    </tr>\n",
       "    <tr>\n",
       "      <th>7</th>\n",
       "      <td>0</td>\n",
       "      <td>-152.779569</td>\n",
       "      <td>50</td>\n",
       "      <td>СРЕДНЕЕ</td>\n",
       "      <td>1</td>\n",
       "      <td>женат / замужем</td>\n",
       "      <td>0</td>\n",
       "      <td>M</td>\n",
       "      <td>сотрудник</td>\n",
       "      <td>0</td>\n",
       "      <td>135823.934197</td>\n",
       "      <td>образование</td>\n",
       "    </tr>\n",
       "    <tr>\n",
       "      <th>8</th>\n",
       "      <td>2</td>\n",
       "      <td>-6929.865299</td>\n",
       "      <td>35</td>\n",
       "      <td>ВЫСШЕЕ</td>\n",
       "      <td>0</td>\n",
       "      <td>гражданский брак</td>\n",
       "      <td>1</td>\n",
       "      <td>F</td>\n",
       "      <td>сотрудник</td>\n",
       "      <td>0</td>\n",
       "      <td>95856.832424</td>\n",
       "      <td>на проведение свадьбы</td>\n",
       "    </tr>\n",
       "    <tr>\n",
       "      <th>9</th>\n",
       "      <td>0</td>\n",
       "      <td>-2188.756445</td>\n",
       "      <td>41</td>\n",
       "      <td>среднее</td>\n",
       "      <td>1</td>\n",
       "      <td>женат / замужем</td>\n",
       "      <td>0</td>\n",
       "      <td>M</td>\n",
       "      <td>сотрудник</td>\n",
       "      <td>0</td>\n",
       "      <td>144425.938277</td>\n",
       "      <td>покупка жилья для семьи</td>\n",
       "    </tr>\n",
       "    <tr>\n",
       "      <th>10</th>\n",
       "      <td>2</td>\n",
       "      <td>-4171.483647</td>\n",
       "      <td>36</td>\n",
       "      <td>высшее</td>\n",
       "      <td>0</td>\n",
       "      <td>женат / замужем</td>\n",
       "      <td>0</td>\n",
       "      <td>M</td>\n",
       "      <td>компаньон</td>\n",
       "      <td>0</td>\n",
       "      <td>113943.491460</td>\n",
       "      <td>покупка недвижимости</td>\n",
       "    </tr>\n",
       "    <tr>\n",
       "      <th>11</th>\n",
       "      <td>0</td>\n",
       "      <td>-792.701887</td>\n",
       "      <td>40</td>\n",
       "      <td>среднее</td>\n",
       "      <td>1</td>\n",
       "      <td>женат / замужем</td>\n",
       "      <td>0</td>\n",
       "      <td>F</td>\n",
       "      <td>сотрудник</td>\n",
       "      <td>0</td>\n",
       "      <td>77069.234271</td>\n",
       "      <td>покупка коммерческой недвижимости</td>\n",
       "    </tr>\n",
       "    <tr>\n",
       "      <th>12</th>\n",
       "      <td>0</td>\n",
       "      <td>NaN</td>\n",
       "      <td>65</td>\n",
       "      <td>среднее</td>\n",
       "      <td>1</td>\n",
       "      <td>гражданский брак</td>\n",
       "      <td>1</td>\n",
       "      <td>M</td>\n",
       "      <td>пенсионер</td>\n",
       "      <td>0</td>\n",
       "      <td>NaN</td>\n",
       "      <td>сыграть свадьбу</td>\n",
       "    </tr>\n",
       "    <tr>\n",
       "      <th>13</th>\n",
       "      <td>0</td>\n",
       "      <td>-1846.641941</td>\n",
       "      <td>54</td>\n",
       "      <td>неоконченное высшее</td>\n",
       "      <td>2</td>\n",
       "      <td>женат / замужем</td>\n",
       "      <td>0</td>\n",
       "      <td>F</td>\n",
       "      <td>сотрудник</td>\n",
       "      <td>0</td>\n",
       "      <td>130458.228857</td>\n",
       "      <td>приобретение автомобиля</td>\n",
       "    </tr>\n",
       "    <tr>\n",
       "      <th>14</th>\n",
       "      <td>0</td>\n",
       "      <td>-1844.956182</td>\n",
       "      <td>56</td>\n",
       "      <td>высшее</td>\n",
       "      <td>0</td>\n",
       "      <td>гражданский брак</td>\n",
       "      <td>1</td>\n",
       "      <td>F</td>\n",
       "      <td>компаньон</td>\n",
       "      <td>1</td>\n",
       "      <td>165127.911772</td>\n",
       "      <td>покупка жилой недвижимости</td>\n",
       "    </tr>\n",
       "    <tr>\n",
       "      <th>15</th>\n",
       "      <td>1</td>\n",
       "      <td>-972.364419</td>\n",
       "      <td>26</td>\n",
       "      <td>среднее</td>\n",
       "      <td>1</td>\n",
       "      <td>женат / замужем</td>\n",
       "      <td>0</td>\n",
       "      <td>F</td>\n",
       "      <td>сотрудник</td>\n",
       "      <td>0</td>\n",
       "      <td>116820.904450</td>\n",
       "      <td>строительство собственной недвижимости</td>\n",
       "    </tr>\n",
       "    <tr>\n",
       "      <th>16</th>\n",
       "      <td>0</td>\n",
       "      <td>-1719.934226</td>\n",
       "      <td>35</td>\n",
       "      <td>среднее</td>\n",
       "      <td>1</td>\n",
       "      <td>женат / замужем</td>\n",
       "      <td>0</td>\n",
       "      <td>F</td>\n",
       "      <td>сотрудник</td>\n",
       "      <td>0</td>\n",
       "      <td>289202.704229</td>\n",
       "      <td>недвижимость</td>\n",
       "    </tr>\n",
       "    <tr>\n",
       "      <th>17</th>\n",
       "      <td>0</td>\n",
       "      <td>-2369.999720</td>\n",
       "      <td>33</td>\n",
       "      <td>высшее</td>\n",
       "      <td>0</td>\n",
       "      <td>гражданский брак</td>\n",
       "      <td>1</td>\n",
       "      <td>M</td>\n",
       "      <td>сотрудник</td>\n",
       "      <td>0</td>\n",
       "      <td>90410.586745</td>\n",
       "      <td>строительство недвижимости</td>\n",
       "    </tr>\n",
       "    <tr>\n",
       "      <th>18</th>\n",
       "      <td>0</td>\n",
       "      <td>400281.136913</td>\n",
       "      <td>53</td>\n",
       "      <td>среднее</td>\n",
       "      <td>1</td>\n",
       "      <td>вдовец / вдова</td>\n",
       "      <td>2</td>\n",
       "      <td>F</td>\n",
       "      <td>пенсионер</td>\n",
       "      <td>0</td>\n",
       "      <td>56823.777243</td>\n",
       "      <td>на покупку подержанного автомобиля</td>\n",
       "    </tr>\n",
       "    <tr>\n",
       "      <th>19</th>\n",
       "      <td>0</td>\n",
       "      <td>-10038.818549</td>\n",
       "      <td>48</td>\n",
       "      <td>СРЕДНЕЕ</td>\n",
       "      <td>1</td>\n",
       "      <td>в разводе</td>\n",
       "      <td>3</td>\n",
       "      <td>F</td>\n",
       "      <td>сотрудник</td>\n",
       "      <td>0</td>\n",
       "      <td>242831.107982</td>\n",
       "      <td>на покупку своего автомобиля</td>\n",
       "    </tr>\n",
       "  </tbody>\n",
       "</table>\n",
       "</div>"
      ],
      "text/plain": [
       "    children  days_employed  dob_years            education  education_id  \\\n",
       "0          1   -8437.673028         42               высшее             0   \n",
       "1          1   -4024.803754         36              среднее             1   \n",
       "2          0   -5623.422610         33              Среднее             1   \n",
       "3          3   -4124.747207         32              среднее             1   \n",
       "4          0  340266.072047         53              среднее             1   \n",
       "5          0    -926.185831         27               высшее             0   \n",
       "6          0   -2879.202052         43               высшее             0   \n",
       "7          0    -152.779569         50              СРЕДНЕЕ             1   \n",
       "8          2   -6929.865299         35               ВЫСШЕЕ             0   \n",
       "9          0   -2188.756445         41              среднее             1   \n",
       "10         2   -4171.483647         36               высшее             0   \n",
       "11         0    -792.701887         40              среднее             1   \n",
       "12         0            NaN         65              среднее             1   \n",
       "13         0   -1846.641941         54  неоконченное высшее             2   \n",
       "14         0   -1844.956182         56               высшее             0   \n",
       "15         1    -972.364419         26              среднее             1   \n",
       "16         0   -1719.934226         35              среднее             1   \n",
       "17         0   -2369.999720         33               высшее             0   \n",
       "18         0  400281.136913         53              среднее             1   \n",
       "19         0  -10038.818549         48              СРЕДНЕЕ             1   \n",
       "\n",
       "       family_status  family_status_id gender income_type  debt  \\\n",
       "0    женат / замужем                 0      F   сотрудник     0   \n",
       "1    женат / замужем                 0      F   сотрудник     0   \n",
       "2    женат / замужем                 0      M   сотрудник     0   \n",
       "3    женат / замужем                 0      M   сотрудник     0   \n",
       "4   гражданский брак                 1      F   пенсионер     0   \n",
       "5   гражданский брак                 1      M   компаньон     0   \n",
       "6    женат / замужем                 0      F   компаньон     0   \n",
       "7    женат / замужем                 0      M   сотрудник     0   \n",
       "8   гражданский брак                 1      F   сотрудник     0   \n",
       "9    женат / замужем                 0      M   сотрудник     0   \n",
       "10   женат / замужем                 0      M   компаньон     0   \n",
       "11   женат / замужем                 0      F   сотрудник     0   \n",
       "12  гражданский брак                 1      M   пенсионер     0   \n",
       "13   женат / замужем                 0      F   сотрудник     0   \n",
       "14  гражданский брак                 1      F   компаньон     1   \n",
       "15   женат / замужем                 0      F   сотрудник     0   \n",
       "16   женат / замужем                 0      F   сотрудник     0   \n",
       "17  гражданский брак                 1      M   сотрудник     0   \n",
       "18    вдовец / вдова                 2      F   пенсионер     0   \n",
       "19         в разводе                 3      F   сотрудник     0   \n",
       "\n",
       "     total_income                                 purpose  \n",
       "0   253875.639453                           покупка жилья  \n",
       "1   112080.014102                 приобретение автомобиля  \n",
       "2   145885.952297                           покупка жилья  \n",
       "3   267628.550329              дополнительное образование  \n",
       "4   158616.077870                         сыграть свадьбу  \n",
       "5   255763.565419                           покупка жилья  \n",
       "6   240525.971920                       операции с жильем  \n",
       "7   135823.934197                             образование  \n",
       "8    95856.832424                   на проведение свадьбы  \n",
       "9   144425.938277                 покупка жилья для семьи  \n",
       "10  113943.491460                    покупка недвижимости  \n",
       "11   77069.234271       покупка коммерческой недвижимости  \n",
       "12            NaN                         сыграть свадьбу  \n",
       "13  130458.228857                 приобретение автомобиля  \n",
       "14  165127.911772              покупка жилой недвижимости  \n",
       "15  116820.904450  строительство собственной недвижимости  \n",
       "16  289202.704229                            недвижимость  \n",
       "17   90410.586745              строительство недвижимости  \n",
       "18   56823.777243      на покупку подержанного автомобиля  \n",
       "19  242831.107982            на покупку своего автомобиля  "
      ]
     },
     "execution_count": 2,
     "metadata": {},
     "output_type": "execute_result"
    }
   ],
   "source": [
    "data.head(20)"
   ]
  },
  {
   "cell_type": "markdown",
   "id": "0ed8f27f",
   "metadata": {
    "deletable": false,
    "editable": false,
    "id": "0ed8f27f"
   },
   "source": [
    "информация о данных"
   ]
  },
  {
   "cell_type": "code",
   "execution_count": 3,
   "id": "ab3f863b",
   "metadata": {
    "deletable": false,
    "id": "ab3f863b",
    "outputId": "15376089-8dad-46c9-b520-c05248d43158"
   },
   "outputs": [
    {
     "name": "stdout",
     "output_type": "stream",
     "text": [
      "<class 'pandas.core.frame.DataFrame'>\n",
      "RangeIndex: 21525 entries, 0 to 21524\n",
      "Data columns (total 12 columns):\n",
      " #   Column            Non-Null Count  Dtype  \n",
      "---  ------            --------------  -----  \n",
      " 0   children          21525 non-null  int64  \n",
      " 1   days_employed     19351 non-null  float64\n",
      " 2   dob_years         21525 non-null  int64  \n",
      " 3   education         21525 non-null  object \n",
      " 4   education_id      21525 non-null  int64  \n",
      " 5   family_status     21525 non-null  object \n",
      " 6   family_status_id  21525 non-null  int64  \n",
      " 7   gender            21525 non-null  object \n",
      " 8   income_type       21525 non-null  object \n",
      " 9   debt              21525 non-null  int64  \n",
      " 10  total_income      19351 non-null  float64\n",
      " 11  purpose           21525 non-null  object \n",
      "dtypes: float64(2), int64(5), object(5)\n",
      "memory usage: 2.0+ MB\n"
     ]
    }
   ],
   "source": [
    "data.info()"
   ]
  },
  {
   "cell_type": "markdown",
   "id": "60e3e22d",
   "metadata": {
    "deletable": false,
    "editable": false,
    "id": "60e3e22d"
   },
   "source": [
    "## Предобработка данных"
   ]
  },
  {
   "cell_type": "markdown",
   "id": "03dc170c",
   "metadata": {
    "deletable": false,
    "editable": false,
    "id": "03dc170c"
   },
   "source": [
    "### Удаление пропусков"
   ]
  },
  {
   "cell_type": "code",
   "execution_count": 4,
   "id": "2dc372b2",
   "metadata": {
    "deletable": false,
    "id": "2dc372b2",
    "outputId": "81f4d817-781c-465c-ed15-91ce4446810d"
   },
   "outputs": [
    {
     "name": "stdout",
     "output_type": "stream",
     "text": [
      "children             0.000000\n",
      "days_employed       10.099884\n",
      "dob_years            0.000000\n",
      "education            0.000000\n",
      "education_id         0.000000\n",
      "family_status        0.000000\n",
      "family_status_id     0.000000\n",
      "gender               0.000000\n",
      "income_type          0.000000\n",
      "debt                 0.000000\n",
      "total_income        10.099884\n",
      "purpose              0.000000\n",
      "dtype: float64\n"
     ]
    }
   ],
   "source": [
    "# data.isna().sum()\n",
    "# data.count()\n",
    "print((data.isna().sum() * 100) / len(data))"
   ]
  },
  {
   "cell_type": "markdown",
   "id": "14f011b1",
   "metadata": {
    "deletable": false,
    "editable": false,
    "id": "14f011b1"
   },
   "source": [
    "**В двух столбцах есть пропущенные значения. Один из них — `days_employed`. Пропуски в этом столбце вы обработаете на следующем этапе. Другой столбец с пропущенными значениями — `total_income` — хранит данные о доходах. На сумму дохода сильнее всего влияет тип занятости, поэтому заполнить пропуски в этом столбце нужно медианным значением по каждому типу из столбца `income_type`. Например, у человека с типом занятости `сотрудник` пропуск в столбце `total_income` должен быть заполнен медианным доходом среди всех записей с тем же типом.**"
   ]
  },
  {
   "cell_type": "code",
   "execution_count": 5,
   "id": "bdabfb6e",
   "metadata": {
    "deletable": false,
    "id": "bdabfb6e"
   },
   "outputs": [],
   "source": [
    "for t in data['income_type'].unique():\n",
    "    data.loc[(data['income_type'] == t) & (data['total_income'].isna()), 'total_income'] = \\\n",
    "    data.loc[(data['income_type'] == t), 'total_income'].median()"
   ]
  },
  {
   "cell_type": "markdown",
   "id": "5be34059",
   "metadata": {
    "deletable": false,
    "editable": false,
    "id": "5be34059"
   },
   "source": [
    "### Обработка аномальных значений"
   ]
  },
  {
   "cell_type": "markdown",
   "id": "a87606cb",
   "metadata": {
    "deletable": false,
    "editable": false,
    "id": "a87606cb"
   },
   "source": [
    "**В данных могут встречаться артефакты (аномалии) — значения, которые не отражают действительность и появились по какой-то ошибке. таким артефактом будет отрицательное количество дней трудового стажа в столбце `days_employed`. Для реальных данных это нормально. Обработайте значения в этом столбце: замените все отрицательные значения положительными с помощью метода `abs()`.**"
   ]
  },
  {
   "cell_type": "code",
   "execution_count": 6,
   "id": "020c46cc",
   "metadata": {
    "deletable": false,
    "id": "020c46cc"
   },
   "outputs": [],
   "source": [
    "data['days_employed'] = data['days_employed'].abs()"
   ]
  },
  {
   "cell_type": "markdown",
   "id": "45538a3a",
   "metadata": {
    "deletable": false,
    "editable": false,
    "id": "45538a3a"
   },
   "source": [
    "**Для каждого типа занятости выведем медианное значение трудового стажа `days_employed` в днях.**"
   ]
  },
  {
   "cell_type": "code",
   "execution_count": 7,
   "id": "cd3e6328",
   "metadata": {
    "deletable": false,
    "id": "cd3e6328",
    "outputId": "801ef80e-522b-4668-f34e-565af7432bcf"
   },
   "outputs": [
    {
     "data": {
      "text/plain": [
       "income_type\n",
       "безработный        366413.652744\n",
       "в декрете            3296.759962\n",
       "госслужащий          2689.368353\n",
       "компаньон            1547.382223\n",
       "пенсионер          365213.306266\n",
       "предприниматель       520.848083\n",
       "сотрудник            1574.202821\n",
       "студент               578.751554\n",
       "Name: days_employed, dtype: float64"
      ]
     },
     "execution_count": 7,
     "metadata": {},
     "output_type": "execute_result"
    }
   ],
   "source": [
    "data.groupby('income_type')['days_employed'].agg('median')"
   ]
  },
  {
   "cell_type": "markdown",
   "id": "90c5f058",
   "metadata": {
    "deletable": false,
    "editable": false,
    "id": "90c5f058"
   },
   "source": [
    "У двух типов (безработные и пенсионеры) получатся аномально большие значения. Исправить такие значения сложно, поэтому оставьте их как есть."
   ]
  },
  {
   "cell_type": "markdown",
   "id": "9652e50d",
   "metadata": {
    "deletable": false,
    "editable": false,
    "id": "9652e50d"
   },
   "source": [
    "**Выведием перечень уникальных значений столбца `children`.**"
   ]
  },
  {
   "cell_type": "code",
   "execution_count": 8,
   "id": "dbb37b8e",
   "metadata": {
    "deletable": false,
    "id": "dbb37b8e",
    "outputId": "6975b15c-7f95-4697-d16d-a0c79b657b03"
   },
   "outputs": [
    {
     "data": {
      "text/plain": [
       "array([ 1,  0,  3,  2, -1,  4, 20,  5])"
      ]
     },
     "execution_count": 8,
     "metadata": {},
     "output_type": "execute_result"
    }
   ],
   "source": [
    "data['children'].unique()"
   ]
  },
  {
   "cell_type": "markdown",
   "id": "2b8b0715",
   "metadata": {
    "deletable": false,
    "editable": false,
    "id": "2b8b0715"
   },
   "source": [
    "**В столбце `children` есть два аномальных значения. Удалим строки, в которых встречаются такие аномальные значения из датафрейма `data`.**"
   ]
  },
  {
   "cell_type": "code",
   "execution_count": 9,
   "id": "20009df8",
   "metadata": {
    "deletable": false,
    "id": "20009df8"
   },
   "outputs": [],
   "source": [
    "data = data[(data['children'] != -1) & (data['children'] != 20)]"
   ]
  },
  {
   "cell_type": "markdown",
   "id": "8c6ac9f1",
   "metadata": {
    "deletable": false,
    "editable": false,
    "id": "8c6ac9f1"
   },
   "source": [
    "**Ещё раз выведем перечень уникальных значений столбца `children`, чтобы убедиться, что артефакты удалены.**"
   ]
  },
  {
   "cell_type": "code",
   "execution_count": 10,
   "id": "07337b81",
   "metadata": {
    "deletable": false,
    "id": "07337b81",
    "outputId": "b2097101-d49d-44d9-901b-32a65c9463d1"
   },
   "outputs": [
    {
     "data": {
      "text/plain": [
       "array([1, 0, 3, 2, 4, 5])"
      ]
     },
     "execution_count": 10,
     "metadata": {},
     "output_type": "execute_result"
    }
   ],
   "source": [
    "data['children'].unique()"
   ]
  },
  {
   "cell_type": "markdown",
   "id": "a700b0e4",
   "metadata": {
    "deletable": false,
    "editable": false,
    "id": "a700b0e4"
   },
   "source": [
    "**Заполним пропуски в столбце `days_employed` медианными значениями по каждого типа занятости `income_type`.**"
   ]
  },
  {
   "cell_type": "code",
   "execution_count": 11,
   "id": "61946b83",
   "metadata": {
    "deletable": false,
    "id": "61946b83"
   },
   "outputs": [],
   "source": [
    "for t in data['income_type'].unique():\n",
    "    data.loc[(data['income_type'] == t) & (data['days_employed'].isna()), 'days_employed'] = \\\n",
    "    data.loc[(data['income_type'] == t), 'days_employed'].median()"
   ]
  },
  {
   "cell_type": "markdown",
   "id": "550dcd9b",
   "metadata": {
    "deletable": false,
    "editable": false,
    "id": "550dcd9b"
   },
   "source": [
    "**Убедимся что пропусков неосталось**"
   ]
  },
  {
   "cell_type": "code",
   "execution_count": 12,
   "id": "937c7014",
   "metadata": {
    "deletable": false,
    "id": "937c7014",
    "outputId": "8da1e4e1-358e-4e87-98c9-f261bce0a7b2"
   },
   "outputs": [
    {
     "data": {
      "text/plain": [
       "children            0\n",
       "days_employed       0\n",
       "dob_years           0\n",
       "education           0\n",
       "education_id        0\n",
       "family_status       0\n",
       "family_status_id    0\n",
       "gender              0\n",
       "income_type         0\n",
       "debt                0\n",
       "total_income        0\n",
       "purpose             0\n",
       "dtype: int64"
      ]
     },
     "execution_count": 12,
     "metadata": {},
     "output_type": "execute_result"
    }
   ],
   "source": [
    "data.isna().sum()"
   ]
  },
  {
   "cell_type": "markdown",
   "id": "d522e295",
   "metadata": {
    "deletable": false,
    "editable": false,
    "id": "d522e295"
   },
   "source": [
    "### Изменение типов данных"
   ]
  },
  {
   "cell_type": "markdown",
   "id": "c229c581",
   "metadata": {
    "deletable": false,
    "editable": false,
    "id": "c229c581"
   },
   "source": [
    "**Заменим вещественный тип данных в столбце `total_income` на целочисленный с помощью метода `astype()`.**"
   ]
  },
  {
   "cell_type": "code",
   "execution_count": 13,
   "id": "31036462",
   "metadata": {
    "deletable": false,
    "id": "31036462"
   },
   "outputs": [],
   "source": [
    "data['total_income'] = data['total_income'].astype(int)"
   ]
  },
  {
   "cell_type": "markdown",
   "id": "b8e3d1d9",
   "metadata": {
    "deletable": false,
    "editable": false,
    "id": "b8e3d1d9"
   },
   "source": [
    "### Обработка дубликатов"
   ]
  },
  {
   "cell_type": "markdown",
   "id": "9be53c49",
   "metadata": {
    "deletable": false,
    "editable": false,
    "id": "9be53c49"
   },
   "source": [
    "**Обработаем неявные дубликаты в столбце `education`. В этом столбце есть одни и те же значения, но записанные по-разному: с использованием заглавных и строчных букв. Приведите их к нижнему регистру.**"
   ]
  },
  {
   "cell_type": "code",
   "execution_count": 14,
   "id": "d89e73e1",
   "metadata": {
    "deletable": false,
    "id": "d89e73e1"
   },
   "outputs": [],
   "source": [
    "data['education'] = data['education'].str.lower()"
   ]
  },
  {
   "cell_type": "markdown",
   "id": "01d4500e",
   "metadata": {
    "deletable": false,
    "editable": false,
    "id": "01d4500e"
   },
   "source": [
    "**Выведем на экран количество строк-дубликатов в данных. Если такие строки присутствуют, удалите их.**"
   ]
  },
  {
   "cell_type": "code",
   "execution_count": 15,
   "id": "e10efb23",
   "metadata": {
    "deletable": false,
    "id": "e10efb23",
    "outputId": "9684deba-1934-42d1-99e1-cda61740f822"
   },
   "outputs": [
    {
     "data": {
      "text/plain": [
       "71"
      ]
     },
     "execution_count": 15,
     "metadata": {},
     "output_type": "execute_result"
    }
   ],
   "source": [
    "data.duplicated().sum()"
   ]
  },
  {
   "cell_type": "code",
   "execution_count": 16,
   "id": "df853f20",
   "metadata": {
    "deletable": false,
    "id": "df853f20"
   },
   "outputs": [],
   "source": [
    "data = data.drop_duplicates()"
   ]
  },
  {
   "cell_type": "markdown",
   "id": "627be38f",
   "metadata": {
    "deletable": false,
    "editable": false,
    "id": "627be38f"
   },
   "source": [
    "### Категоризация данных"
   ]
  },
  {
   "cell_type": "markdown",
   "id": "4684c3e0",
   "metadata": {
    "deletable": false,
    "editable": false,
    "id": "4684c3e0"
   },
   "source": [
    "**На основании диапазонов, указанных ниже, создадим в датафрейме `data` столбец `total_income_category` с категориями:**\n",
    "\n",
    "- 0–30000 — `'E'`;\n",
    "- 30001–50000 — `'D'`;\n",
    "- 50001–200000 — `'C'`;\n",
    "- 200001–1000000 — `'B'`;\n",
    "- 1000001 и выше — `'A'`.\n",
    "\n",
    "\n",
    "**Например, кредитополучателю с доходом 25000 нужно назначить категорию `'E'`, а клиенту, получающему 235000, — `'B'`. Используйте собственную функцию с именем `categorize_income()` и метод `apply()`.**"
   ]
  },
  {
   "cell_type": "code",
   "execution_count": 17,
   "id": "78965238",
   "metadata": {
    "deletable": false,
    "id": "78965238"
   },
   "outputs": [],
   "source": [
    "def categorize_income(income):\n",
    "    try:\n",
    "        if 0 <= income <= 30000:\n",
    "            return 'E'\n",
    "        elif 30001 <= income <= 50000:\n",
    "            return 'D'\n",
    "        elif 50001 <= income <= 200000:\n",
    "            return 'C'\n",
    "        elif 200001 <= income <= 1000000:\n",
    "            return 'B'\n",
    "        elif income >= 1000001:\n",
    "            return 'A'\n",
    "    except:\n",
    "        pass"
   ]
  },
  {
   "cell_type": "code",
   "execution_count": 18,
   "id": "0980ada1",
   "metadata": {
    "deletable": false,
    "id": "0980ada1"
   },
   "outputs": [],
   "source": [
    "data['total_income_category'] = data['total_income'].apply(categorize_income)"
   ]
  },
  {
   "cell_type": "markdown",
   "id": "9917bba0",
   "metadata": {
    "deletable": false,
    "editable": false,
    "id": "9917bba0"
   },
   "source": [
    "**Выведем на экран перечень уникальных целей взятия кредита из столбца `purpose`.**"
   ]
  },
  {
   "cell_type": "code",
   "execution_count": 19,
   "id": "ee07b65e",
   "metadata": {
    "deletable": false,
    "id": "ee07b65e",
    "outputId": "673c12d9-7d7e-4ae0-9812-c622c89dd244"
   },
   "outputs": [
    {
     "data": {
      "text/plain": [
       "array(['покупка жилья', 'приобретение автомобиля',\n",
       "       'дополнительное образование', 'сыграть свадьбу',\n",
       "       'операции с жильем', 'образование', 'на проведение свадьбы',\n",
       "       'покупка жилья для семьи', 'покупка недвижимости',\n",
       "       'покупка коммерческой недвижимости', 'покупка жилой недвижимости',\n",
       "       'строительство собственной недвижимости', 'недвижимость',\n",
       "       'строительство недвижимости', 'на покупку подержанного автомобиля',\n",
       "       'на покупку своего автомобиля',\n",
       "       'операции с коммерческой недвижимостью',\n",
       "       'строительство жилой недвижимости', 'жилье',\n",
       "       'операции со своей недвижимостью', 'автомобили',\n",
       "       'заняться образованием', 'сделка с подержанным автомобилем',\n",
       "       'получение образования', 'автомобиль', 'свадьба',\n",
       "       'получение дополнительного образования', 'покупка своего жилья',\n",
       "       'операции с недвижимостью', 'получение высшего образования',\n",
       "       'свой автомобиль', 'сделка с автомобилем',\n",
       "       'профильное образование', 'высшее образование',\n",
       "       'покупка жилья для сдачи', 'на покупку автомобиля', 'ремонт жилью',\n",
       "       'заняться высшим образованием'], dtype=object)"
      ]
     },
     "execution_count": 19,
     "metadata": {},
     "output_type": "execute_result"
    }
   ],
   "source": [
    "data['purpose'].unique()"
   ]
  },
  {
   "cell_type": "markdown",
   "id": "52b79d56",
   "metadata": {
    "deletable": false,
    "editable": false,
    "id": "52b79d56"
   },
   "source": [
    "**Создадим функцию, которая на основании данных из столбца `purpose` сформирует новый столбец `purpose_category`, в который войдут следующие категории:**\n",
    "\n",
    "- `'операции с автомобилем'`,\n",
    "- `'операции с недвижимостью'`,\n",
    "- `'проведение свадьбы'`,\n",
    "- `'получение образования'`.\n",
    "\n",
    "**Например, если в столбце `purpose` находится подстрока `'на покупку автомобиля'`, то в столбце `purpose_category` должна появиться строка `'операции с автомобилем'`.**\n",
    "\n",
    "**Используйте собственную функцию с именем `categorize_purpose()` и метод `apply()`. Изучите данные в столбце `purpose` и определите, какие подстроки помогут вам правильно определить категорию.**"
   ]
  },
  {
   "cell_type": "code",
   "execution_count": 20,
   "id": "be41da5d",
   "metadata": {
    "deletable": false,
    "id": "be41da5d"
   },
   "outputs": [],
   "source": [
    "def categorize_purpose(row):\n",
    "    try:\n",
    "        if 'автом' in row:\n",
    "            return 'операции с автомобилем'\n",
    "        elif 'жил' in row or 'недвиж' in row:\n",
    "            return 'операции с недвижимостью'\n",
    "        elif 'свад' in row:\n",
    "            return 'проведение свадьбы'\n",
    "        elif 'образов' in row:\n",
    "            return 'получение образования'\n",
    "    except:\n",
    "        return 'нет категории'"
   ]
  },
  {
   "cell_type": "code",
   "execution_count": 21,
   "id": "94c4a19a",
   "metadata": {
    "deletable": false,
    "id": "94c4a19a"
   },
   "outputs": [],
   "source": [
    "data['purpose_category'] = data['purpose'].apply(categorize_purpose)"
   ]
  },
  {
   "cell_type": "markdown",
   "id": "3d596c34",
   "metadata": {
    "deletable": false,
    "editable": false,
    "id": "3d596c34"
   },
   "source": [
    "### Исследуем данные и ответьте на вопросы"
   ]
  },
  {
   "cell_type": "markdown",
   "id": "5e3998f9",
   "metadata": {},
   "source": [
    "<a class=\"anchor\" id=\"children\"></a>"
   ]
  },
  {
   "cell_type": "markdown",
   "id": "648db036",
   "metadata": {
    "deletable": false,
    "editable": false,
    "id": "648db036"
   },
   "source": [
    "#### Есть ли зависимость между количеством детей и возвратом кредита в срок?"
   ]
  },
  {
   "cell_type": "code",
   "execution_count": 22,
   "id": "75a82546",
   "metadata": {},
   "outputs": [
    {
     "name": "stdout",
     "output_type": "stream",
     "text": [
      "   children  debt_1\n",
      "0         0    1063\n",
      "1         1     444\n",
      "2         2     194\n",
      "3         3      27\n",
      "4         4       4\n"
     ]
    }
   ],
   "source": [
    "# группа по кол-во детей, кол-во просрочек в каждой\n",
    "# print(data.loc[data['debt'] == 1, 'children'].value_counts())\n",
    "filter = data.loc[data['debt'] == 1]\n",
    "counts = filter['children'].value_counts().to_frame()\n",
    "counts.reset_index(inplace=True)\n",
    "counts.columns = ['children', 'debt_1']\n",
    "\n",
    "print(counts)"
   ]
  },
  {
   "cell_type": "markdown",
   "id": "2398f4bf",
   "metadata": {},
   "source": [
    "В прямом сравнении мы видим зависимость того что отсутствие детей прямо влияет на возвратность по взятым кредитным обязательствам. Посмотрим глубже и определим так ли это на самом деле."
   ]
  },
  {
   "cell_type": "code",
   "execution_count": 23,
   "id": "ad02f8d8",
   "metadata": {},
   "outputs": [],
   "source": [
    "def group_data(name_group, group_object):\n",
    "    \"\"\"\n",
    "    ф-я принимает название группы\n",
    "    return:\n",
    "    Группу: Group Number Children\n",
    "    общее кол-во с данным кол-вом детей: All Peopele\n",
    "    кол-во просрочек на эту группу: Debt Count\n",
    "    %-е отношение просрочек к общему кол-ву: % Debt\n",
    "    \"\"\"\n",
    "    # Кол-во всего в группе кол-ва детей\n",
    "    count_ch = data.loc[data[group_object] == name_group, group_object].count()\n",
    "    # Кол-во просрочек в данной групе\n",
    "    debt_ch = data.loc[(data[group_object]==name_group)&(data['debt']==1), 'debt'].count()\n",
    "    # %-е отношение просрочек в кол-ву в группе\n",
    "    percent = round(debt_ch / count_ch * 100, 2)\n",
    "    result_table = pd.DataFrame({\n",
    "        'Name Group': [name_group],\n",
    "        'All Peopele': [count_ch],\n",
    "        'Debt Count': [debt_ch],\n",
    "        '% Debt': [percent]\n",
    "    })\n",
    "    \n",
    "    return result_table"
   ]
  },
  {
   "cell_type": "code",
   "execution_count": 24,
   "id": "74a648dd",
   "metadata": {},
   "outputs": [
    {
     "name": "stdout",
     "output_type": "stream",
     "text": [
      " Name Group  All Peopele  Debt Count  % Debt\n",
      "          0        14091        1063    7.54\n",
      "          1         4808         444    9.23\n",
      "          2         2052         194    9.45\n",
      "          3          330          27    8.18\n",
      "          4           41           4    9.76\n",
      "          5            9           0    0.00\n"
     ]
    },
    {
     "data": {
      "text/plain": [
       "<AxesSubplot:xlabel='Name Group', ylabel='% Debt'>"
      ]
     },
     "execution_count": 24,
     "metadata": {},
     "output_type": "execute_result"
    },
    {
     "data": {
      "image/png": "[encoded data removed]",
      "text/plain": [
       "<Figure size 432x288 with 1 Axes>"
      ]
     },
     "metadata": {
      "needs_background": "light"
     },
     "output_type": "display_data"
    }
   ],
   "source": [
    "array_data = []\n",
    "# Группы по кол-ву детей.\n",
    "count_children_groups = data['children'].unique()\n",
    "group_object = 'children'\n",
    "for group in count_children_groups:\n",
    "    array_data.append(group_data(group, group_object))\n",
    "    \n",
    "combined_df = pd.concat(array_data, axis=0).sort_values(by='Name Group')\n",
    "\n",
    "print(combined_df.to_string(index=False))\n",
    "seaborn.barplot(x=combined_df['Name Group'], y=combined_df['% Debt'])"
   ]
  },
  {
   "cell_type": "code",
   "execution_count": 32,
   "id": "9a8bdb1f",
   "metadata": {},
   "outputs": [
    {
     "data": {
      "text/html": [
       "<style  type=\"text/css\" >\n",
       "#T_9f0e0_row0_col0,#T_9f0e0_row0_col1,#T_9f0e0_row4_col2{\n",
       "            background-color:  #08306b;\n",
       "            color:  #f1f1f1;\n",
       "        }#T_9f0e0_row0_col2{\n",
       "            background-color:  #1c6bb0;\n",
       "            color:  #f1f1f1;\n",
       "        }#T_9f0e0_row1_col0{\n",
       "            background-color:  #a9cfe5;\n",
       "            color:  #000000;\n",
       "        }#T_9f0e0_row1_col1{\n",
       "            background-color:  #8dc1dd;\n",
       "            color:  #000000;\n",
       "        }#T_9f0e0_row1_col2{\n",
       "            background-color:  #083d7f;\n",
       "            color:  #f1f1f1;\n",
       "        }#T_9f0e0_row2_col0{\n",
       "            background-color:  #dae8f6;\n",
       "            color:  #000000;\n",
       "        }#T_9f0e0_row2_col1{\n",
       "            background-color:  #d3e4f3;\n",
       "            color:  #000000;\n",
       "        }#T_9f0e0_row2_col2{\n",
       "            background-color:  #083776;\n",
       "            color:  #f1f1f1;\n",
       "        }#T_9f0e0_row3_col0{\n",
       "            background-color:  #f3f8fe;\n",
       "            color:  #000000;\n",
       "        }#T_9f0e0_row3_col1{\n",
       "            background-color:  #f2f8fd;\n",
       "            color:  #000000;\n",
       "        }#T_9f0e0_row3_col2{\n",
       "            background-color:  #0f5aa3;\n",
       "            color:  #f1f1f1;\n",
       "        }#T_9f0e0_row4_col0,#T_9f0e0_row4_col1,#T_9f0e0_row5_col0,#T_9f0e0_row5_col1,#T_9f0e0_row5_col2{\n",
       "            background-color:  #f7fbff;\n",
       "            color:  #000000;\n",
       "        }</style><table id=\"T_9f0e0_\" ><thead>    <tr>        <th class=\"blank level0\" ></th>        <th class=\"col_heading level0 col0\" >Всего кредитополучателей</th>        <th class=\"col_heading level0 col1\" >Всего должников</th>        <th class=\"col_heading level0 col2\" >Доля должников</th>    </tr>    <tr>        <th class=\"index_name level0\" >children</th>        <th class=\"blank\" ></th>        <th class=\"blank\" ></th>        <th class=\"blank\" ></th>    </tr></thead><tbody>\n",
       "                <tr>\n",
       "                        <th id=\"T_9f0e0_level0_row0\" class=\"row_heading level0 row0\" >0</th>\n",
       "                        <td id=\"T_9f0e0_row0_col0\" class=\"data row0 col0\" >14091.000</td>\n",
       "                        <td id=\"T_9f0e0_row0_col1\" class=\"data row0 col1\" >1063.000</td>\n",
       "                        <td id=\"T_9f0e0_row0_col2\" class=\"data row0 col2\" >0.075</td>\n",
       "            </tr>\n",
       "            <tr>\n",
       "                        <th id=\"T_9f0e0_level0_row1\" class=\"row_heading level0 row1\" >1</th>\n",
       "                        <td id=\"T_9f0e0_row1_col0\" class=\"data row1 col0\" >4808.000</td>\n",
       "                        <td id=\"T_9f0e0_row1_col1\" class=\"data row1 col1\" >444.000</td>\n",
       "                        <td id=\"T_9f0e0_row1_col2\" class=\"data row1 col2\" >0.092</td>\n",
       "            </tr>\n",
       "            <tr>\n",
       "                        <th id=\"T_9f0e0_level0_row2\" class=\"row_heading level0 row2\" >2</th>\n",
       "                        <td id=\"T_9f0e0_row2_col0\" class=\"data row2 col0\" >2052.000</td>\n",
       "                        <td id=\"T_9f0e0_row2_col1\" class=\"data row2 col1\" >194.000</td>\n",
       "                        <td id=\"T_9f0e0_row2_col2\" class=\"data row2 col2\" >0.095</td>\n",
       "            </tr>\n",
       "            <tr>\n",
       "                        <th id=\"T_9f0e0_level0_row3\" class=\"row_heading level0 row3\" >3</th>\n",
       "                        <td id=\"T_9f0e0_row3_col0\" class=\"data row3 col0\" >330.000</td>\n",
       "                        <td id=\"T_9f0e0_row3_col1\" class=\"data row3 col1\" >27.000</td>\n",
       "                        <td id=\"T_9f0e0_row3_col2\" class=\"data row3 col2\" >0.082</td>\n",
       "            </tr>\n",
       "            <tr>\n",
       "                        <th id=\"T_9f0e0_level0_row4\" class=\"row_heading level0 row4\" >4</th>\n",
       "                        <td id=\"T_9f0e0_row4_col0\" class=\"data row4 col0\" >41.000</td>\n",
       "                        <td id=\"T_9f0e0_row4_col1\" class=\"data row4 col1\" >4.000</td>\n",
       "                        <td id=\"T_9f0e0_row4_col2\" class=\"data row4 col2\" >0.098</td>\n",
       "            </tr>\n",
       "            <tr>\n",
       "                        <th id=\"T_9f0e0_level0_row5\" class=\"row_heading level0 row5\" >5</th>\n",
       "                        <td id=\"T_9f0e0_row5_col0\" class=\"data row5 col0\" >9.000</td>\n",
       "                        <td id=\"T_9f0e0_row5_col1\" class=\"data row5 col1\" >0.000</td>\n",
       "                        <td id=\"T_9f0e0_row5_col2\" class=\"data row5 col2\" >0.000</td>\n",
       "            </tr>\n",
       "    </tbody></table>"
      ],
      "text/plain": [
       "<pandas.io.formats.style.Styler at 0x7fd0fe5d3d30>"
      ]
     },
     "metadata": {},
     "output_type": "display_data"
    }
   ],
   "source": [
    "# Комментарий ревьюера 2\n",
    "# Создаем копию датасета, что бы не работать с исходным\n",
    "temp = data.copy()\n",
    "# Напишем функцию, так как все задачи аналогичны\n",
    "def que(category):\n",
    "    data_temp = temp.pivot_table(index=category, values='debt', aggfunc=['count', 'sum', 'mean'])\n",
    "    data_temp.columns = ['Всего кредитополучателей', 'Всего должников', 'Доля должников']\n",
    "    # Оформим таблицу цветным градиентом, но можно ее вывести и просто display(data_temp)\n",
    "    display(data_temp.style.format(\"{:.3f}\").background_gradient(cmap='Blues', axis=0))\n",
    "    \n",
    "que('children')"
   ]
  },
  {
   "cell_type": "markdown",
   "id": "2eb9088e",
   "metadata": {
    "deletable": false,
    "id": "2eb9088e"
   },
   "source": [
    "**Вывод:** Прямой ярко выраженной зависимости между кол-вом детей и наличием просрочек НЕТ. Однако можно заметить что семьи без детей выплачивают кредиты вовремя чаще чем семьи с детьми, одним и более.\n",
    "Семьи с пятью детьми выпадают из расчета так как их кол-во в общем кол-ве очень мало = 9ти и влияние на общую статистику неоказывает."
   ]
  },
  {
   "cell_type": "markdown",
   "id": "74c9b3a7",
   "metadata": {
    "deletable": false,
    "editable": false,
    "id": "74c9b3a7"
   },
   "source": [
    "#### Есть ли зависимость между семейным положением и возвратом кредита в срок?"
   ]
  },
  {
   "cell_type": "markdown",
   "id": "620f6c36",
   "metadata": {},
   "source": [
    "<a class=\"anchor\" id=\"family_status\"></a>"
   ]
  },
  {
   "cell_type": "code",
   "execution_count": 25,
   "id": "8098ab3b",
   "metadata": {
    "deletable": false,
    "id": "8098ab3b"
   },
   "outputs": [
    {
     "name": "stdout",
     "output_type": "stream",
     "text": [
      "           Name Group  All Peopele  Debt Count  % Debt\n",
      "       вдовец / вдова          951          63    6.62\n",
      "            в разводе         1189          84    7.06\n",
      "      женат / замужем        12261         927    7.56\n",
      "     гражданский брак         4134         385    9.31\n",
      "Не женат / не замужем         2796         273    9.76\n"
     ]
    },
    {
     "data": {
      "image/png": "[encoded data removed]",
      "text/plain": [
       "<Figure size 432x288 with 1 Axes>"
      ]
     },
     "metadata": {
      "needs_background": "light"
     },
     "output_type": "display_data"
    }
   ],
   "source": [
    "array_data = []\n",
    "# Группы по family_status.\n",
    "family_status_groups = data['family_status'].unique()\n",
    "group_object = 'family_status'\n",
    "for group in family_status_groups:\n",
    "    array_data.append(group_data(group, group_object))\n",
    "    \n",
    "combined_df = pd.concat(array_data, axis=0).sort_values(by='% Debt')\n",
    "\n",
    "print(combined_df.to_string(index=False))\n",
    "chart = seaborn.barplot(x=combined_df['Name Group'], y=combined_df['% Debt'])\n",
    "plt.xticks(rotation=45)\n",
    "plt.show()"
   ]
  },
  {
   "cell_type": "markdown",
   "id": "f6d75d3c",
   "metadata": {},
   "source": [
    "Получим разницу в возрасте между групой \"вдовец / вдова\" и \"Не женат / не замужем\"."
   ]
  },
  {
   "cell_type": "code",
   "execution_count": 26,
   "id": "78a733d6",
   "metadata": {},
   "outputs": [
    {
     "name": "stdout",
     "output_type": "stream",
     "text": [
      "18 лет\n"
     ]
    }
   ],
   "source": [
    "# Получим средний возраст группы \"вдовец / вдова\"\n",
    "group_6_62 = data.loc[data['family_status']=='вдовец / вдова', 'dob_years'].mean()\n",
    "# Средней возвраст группы \"Не женат / не замужем\"\n",
    "group_9_76 = data.loc[data['family_status']=='Не женат / не замужем', 'dob_years'].mean()\n",
    "\n",
    "# Разница в возрасте между этими групами \n",
    "print(round(group_6_62 - group_9_76, ), 'лет')\n",
    "\n"
   ]
  },
  {
   "cell_type": "markdown",
   "id": "c389ca63",
   "metadata": {
    "deletable": false,
    "id": "c389ca63"
   },
   "source": [
    "**Вывод:** Аналогичная ситуация, сильно выраженной зависимости семейного положения к наличию просроченных кредитных обязательств нет. Можно лиш отметить, что наличие просрочки меньше у группы \"вдовец/вдова\" по оттношению к группе \"Не женет/не замужем\" это можно обьеснить разницей в среднем созрасте между данными групами, она составляет 18 лет. Люди в возрасте более ответственные."
   ]
  },
  {
   "cell_type": "markdown",
   "id": "9529de68",
   "metadata": {
    "deletable": false,
    "editable": false,
    "id": "9529de68"
   },
   "source": [
    "#### Есть ли зависимость между уровнем дохода и возвратом кредита в срок?"
   ]
  },
  {
   "cell_type": "markdown",
   "id": "26fe6d71",
   "metadata": {},
   "source": [
    "<a class=\"anchor\" id=\"total_income_category\"></a>\n",
    "На основании сформированых групп уровней доходов\n",
    "- 0–30000 — `'E'`;\n",
    "- 30001–50000 — `'D'`;\n",
    "- 50001–200000 — `'C'`;\n",
    "- 200001–1000000 — `'B'`;\n",
    "- 1000001 и выше — `'A'`."
   ]
  },
  {
   "cell_type": "code",
   "execution_count": 27,
   "id": "8787f44a",
   "metadata": {
    "deletable": false,
    "id": "8787f44a"
   },
   "outputs": [
    {
     "name": "stdout",
     "output_type": "stream",
     "text": [
      "Name Group  All Peopele  Debt Count  % Debt\n",
      "         E           22           2    9.09\n",
      "         D          349          21    6.02\n",
      "         C        15921        1353    8.50\n",
      "         B         5014         354    7.06\n",
      "         A           25           2    8.00\n"
     ]
    }
   ],
   "source": [
    "array_data = []\n",
    "# Группы по доходу.\n",
    "income_groups = data['total_income_category'].unique()\n",
    "group_object = 'total_income_category'\n",
    "for group in income_groups:\n",
    "    array_data.append(group_data(group, group_object))\n",
    "    \n",
    "combined_df = pd.concat(array_data, axis=0).sort_values(by='Name Group', ascending=False)\n",
    "\n",
    "print(combined_df.to_string(index=False))"
   ]
  },
  {
   "cell_type": "markdown",
   "id": "9cb66887",
   "metadata": {},
   "source": [
    "Группы с кол-вом (All Peopele) менее 100 нужно исключить из выборки в связи с не актуальностью данных из за малого кол-ва. "
   ]
  },
  {
   "cell_type": "code",
   "execution_count": 28,
   "id": "cab2d7f2",
   "metadata": {},
   "outputs": [
    {
     "name": "stdout",
     "output_type": "stream",
     "text": [
      "Name Group  All Peopele  Debt Count  % Debt\n",
      "         D          349          21    6.02\n",
      "         C        15921        1353    8.50\n",
      "         B         5014         354    7.06\n"
     ]
    }
   ],
   "source": [
    "combined_df = combined_df.loc[combined_df['All Peopele'] > 100].sort_values(by='Name Group', ascending=False)\n",
    "print(combined_df.to_string(index=False))\n",
    "# combined_df['Group'] = pd.qcut(combined_df['All Peopele'], q=2)\n",
    "# print(combined_df[['Group', 'All Peopele']])"
   ]
  },
  {
   "cell_type": "markdown",
   "id": "6dd14b57",
   "metadata": {
    "deletable": false,
    "id": "6dd14b57"
   },
   "source": [
    "**Вывод:** Максимальную просрочку по кредитным обязательствам имеет группа \"С\" с диопазоном - 50001–200000, но она же относится к самой массовой группе заемщиков. С этим и связан ее повышеный % просрочек."
   ]
  },
  {
   "cell_type": "code",
   "execution_count": 34,
   "id": "8814990a",
   "metadata": {},
   "outputs": [
    {
     "data": {
      "text/html": [
       "<style  type=\"text/css\" >\n",
       "#T_dea83_row0_col0{\n",
       "            background-color:  #69add5;\n",
       "            color:  #000000;\n",
       "        }#T_dea83_row0_col1{\n",
       "            background-color:  #5da5d1;\n",
       "            color:  #000000;\n",
       "        }#T_dea83_row0_col2{\n",
       "            background-color:  #58a1cf;\n",
       "            color:  #000000;\n",
       "        }#T_dea83_row1_col0,#T_dea83_row1_col1,#T_dea83_row1_col2{\n",
       "            background-color:  #08306b;\n",
       "            color:  #f1f1f1;\n",
       "        }#T_dea83_row2_col0,#T_dea83_row2_col1,#T_dea83_row2_col2{\n",
       "            background-color:  #f7fbff;\n",
       "            color:  #000000;\n",
       "        }</style><table id=\"T_dea83_\" ><thead>    <tr>        <th class=\"blank level0\" ></th>        <th class=\"col_heading level0 col0\" >Всего кредитополучателей</th>        <th class=\"col_heading level0 col1\" >Всего должников</th>        <th class=\"col_heading level0 col2\" >Доля должников</th>    </tr>    <tr>        <th class=\"index_name level0\" >new_category</th>        <th class=\"blank\" ></th>        <th class=\"blank\" ></th>        <th class=\"blank\" ></th>    </tr></thead><tbody>\n",
       "                <tr>\n",
       "                        <th id=\"T_dea83_level0_row0\" class=\"row_heading level0 row0\" >(20666.0, 119218.0]</th>\n",
       "                        <td id=\"T_dea83_row0_col0\" class=\"data row0 col0\" >7111.000</td>\n",
       "                        <td id=\"T_dea83_row0_col1\" class=\"data row0 col1\" >580.000</td>\n",
       "                        <td id=\"T_dea83_row0_col2\" class=\"data row0 col2\" >0.082</td>\n",
       "            </tr>\n",
       "            <tr>\n",
       "                        <th id=\"T_dea83_level0_row1\" class=\"row_heading level0 row1\" >(119218.0, 172357.0]</th>\n",
       "                        <td id=\"T_dea83_row1_col0\" class=\"data row1 col0\" >7238.000</td>\n",
       "                        <td id=\"T_dea83_row1_col1\" class=\"data row1 col1\" >627.000</td>\n",
       "                        <td id=\"T_dea83_row1_col2\" class=\"data row1 col2\" >0.087</td>\n",
       "            </tr>\n",
       "            <tr>\n",
       "                        <th id=\"T_dea83_level0_row2\" class=\"row_heading level0 row2\" >(172357.0, 2265604.0]</th>\n",
       "                        <td id=\"T_dea83_row2_col0\" class=\"data row2 col0\" >6982.000</td>\n",
       "                        <td id=\"T_dea83_row2_col1\" class=\"data row2 col1\" >525.000</td>\n",
       "                        <td id=\"T_dea83_row2_col2\" class=\"data row2 col2\" >0.075</td>\n",
       "            </tr>\n",
       "    </tbody></table>"
      ],
      "text/plain": [
       "<pandas.io.formats.style.Styler at 0x7fd07c187850>"
      ]
     },
     "metadata": {},
     "output_type": "display_data"
    },
    {
     "data": {
      "text/html": [
       "<style  type=\"text/css\" >\n",
       "#T_41fd9_row0_col0{\n",
       "            background-color:  #6aaed6;\n",
       "            color:  #000000;\n",
       "        }#T_41fd9_row0_col1{\n",
       "            background-color:  #7ab6d9;\n",
       "            color:  #000000;\n",
       "        }#T_41fd9_row0_col2{\n",
       "            background-color:  #65aad4;\n",
       "            color:  #000000;\n",
       "        }#T_41fd9_row1_col0,#T_41fd9_row1_col1,#T_41fd9_row1_col2{\n",
       "            background-color:  #08306b;\n",
       "            color:  #f1f1f1;\n",
       "        }#T_41fd9_row2_col0,#T_41fd9_row3_col1,#T_41fd9_row3_col2{\n",
       "            background-color:  #f7fbff;\n",
       "            color:  #000000;\n",
       "        }#T_41fd9_row2_col1{\n",
       "            background-color:  #3f8fc5;\n",
       "            color:  #000000;\n",
       "        }#T_41fd9_row2_col2{\n",
       "            background-color:  #125ea6;\n",
       "            color:  #f1f1f1;\n",
       "        }#T_41fd9_row3_col0{\n",
       "            background-color:  #6dafd7;\n",
       "            color:  #000000;\n",
       "        }</style><table id=\"T_41fd9_\" ><thead>    <tr>        <th class=\"blank level0\" ></th>        <th class=\"col_heading level0 col0\" >Всего кредитополучателей</th>        <th class=\"col_heading level0 col1\" >Всего должников</th>        <th class=\"col_heading level0 col2\" >Доля должников</th>    </tr>    <tr>        <th class=\"index_name level0\" >new_category</th>        <th class=\"blank\" ></th>        <th class=\"blank\" ></th>        <th class=\"blank\" ></th>    </tr></thead><tbody>\n",
       "                <tr>\n",
       "                        <th id=\"T_41fd9_level0_row0\" class=\"row_heading level0 row0\" >(20666.0, 107507.0]</th>\n",
       "                        <td id=\"T_41fd9_row0_col0\" class=\"data row0 col0\" >5333.000</td>\n",
       "                        <td id=\"T_41fd9_row0_col1\" class=\"data row0 col1\" >427.000</td>\n",
       "                        <td id=\"T_41fd9_row0_col2\" class=\"data row0 col2\" >0.080</td>\n",
       "            </tr>\n",
       "            <tr>\n",
       "                        <th id=\"T_41fd9_level0_row1\" class=\"row_heading level0 row1\" >(107507.0, 142594.0]</th>\n",
       "                        <td id=\"T_41fd9_row1_col0\" class=\"data row1 col0\" >5450.000</td>\n",
       "                        <td id=\"T_41fd9_row1_col1\" class=\"data row1 col1\" >480.000</td>\n",
       "                        <td id=\"T_41fd9_row1_col2\" class=\"data row1 col2\" >0.088</td>\n",
       "            </tr>\n",
       "            <tr>\n",
       "                        <th id=\"T_41fd9_level0_row2\" class=\"row_heading level0 row2\" >(142594.0, 195842.0]</th>\n",
       "                        <td id=\"T_41fd9_row2_col0\" class=\"data row2 col0\" >5216.000</td>\n",
       "                        <td id=\"T_41fd9_row2_col1\" class=\"data row2 col1\" >444.000</td>\n",
       "                        <td id=\"T_41fd9_row2_col2\" class=\"data row2 col2\" >0.085</td>\n",
       "            </tr>\n",
       "            <tr>\n",
       "                        <th id=\"T_41fd9_level0_row3\" class=\"row_heading level0 row3\" >(195842.0, 2265604.0]</th>\n",
       "                        <td id=\"T_41fd9_row3_col0\" class=\"data row3 col0\" >5332.000</td>\n",
       "                        <td id=\"T_41fd9_row3_col1\" class=\"data row3 col1\" >381.000</td>\n",
       "                        <td id=\"T_41fd9_row3_col2\" class=\"data row3 col2\" >0.071</td>\n",
       "            </tr>\n",
       "    </tbody></table>"
      ],
      "text/plain": [
       "<pandas.io.formats.style.Styler at 0x7fd07bd8b370>"
      ]
     },
     "metadata": {},
     "output_type": "display_data"
    },
    {
     "data": {
      "text/html": [
       "<style  type=\"text/css\" >\n",
       "#T_c5388_row0_col0,#T_c5388_row2_col1,#T_c5388_row2_col2{\n",
       "            background-color:  #08306b;\n",
       "            color:  #f1f1f1;\n",
       "        }#T_c5388_row0_col1,#T_c5388_row0_col2{\n",
       "            background-color:  #4896c8;\n",
       "            color:  #000000;\n",
       "        }#T_c5388_row1_col0,#T_c5388_row2_col0,#T_c5388_row3_col0,#T_c5388_row4_col0,#T_c5388_row4_col1,#T_c5388_row4_col2{\n",
       "            background-color:  #f7fbff;\n",
       "            color:  #000000;\n",
       "        }#T_c5388_row1_col1,#T_c5388_row1_col2,#T_c5388_row3_col1,#T_c5388_row3_col2{\n",
       "            background-color:  #1764ab;\n",
       "            color:  #f1f1f1;\n",
       "        }</style><table id=\"T_c5388_\" ><thead>    <tr>        <th class=\"blank level0\" ></th>        <th class=\"col_heading level0 col0\" >Всего кредитополучателей</th>        <th class=\"col_heading level0 col1\" >Всего должников</th>        <th class=\"col_heading level0 col2\" >Доля должников</th>    </tr>    <tr>        <th class=\"index_name level0\" >new_category</th>        <th class=\"blank\" ></th>        <th class=\"blank\" ></th>        <th class=\"blank\" ></th>    </tr></thead><tbody>\n",
       "                <tr>\n",
       "                        <th id=\"T_c5388_level0_row0\" class=\"row_heading level0 row0\" >(20666.0, 98514.0]</th>\n",
       "                        <td id=\"T_c5388_row0_col0\" class=\"data row0 col0\" >4267.000</td>\n",
       "                        <td id=\"T_c5388_row0_col1\" class=\"data row0 col1\" >344.000</td>\n",
       "                        <td id=\"T_c5388_row0_col2\" class=\"data row0 col2\" >0.081</td>\n",
       "            </tr>\n",
       "            <tr>\n",
       "                        <th id=\"T_c5388_level0_row1\" class=\"row_heading level0 row1\" >(98514.0, 132113.0]</th>\n",
       "                        <td id=\"T_c5388_row1_col0\" class=\"data row1 col0\" >4266.000</td>\n",
       "                        <td id=\"T_c5388_row1_col1\" class=\"data row1 col1\" >358.000</td>\n",
       "                        <td id=\"T_c5388_row1_col2\" class=\"data row1 col2\" >0.084</td>\n",
       "            </tr>\n",
       "            <tr>\n",
       "                        <th id=\"T_c5388_level0_row2\" class=\"row_heading level0 row2\" >(132113.0, 161380.0]</th>\n",
       "                        <td id=\"T_c5388_row2_col0\" class=\"data row2 col0\" >4266.000</td>\n",
       "                        <td id=\"T_c5388_row2_col1\" class=\"data row2 col1\" >373.000</td>\n",
       "                        <td id=\"T_c5388_row2_col2\" class=\"data row2 col2\" >0.087</td>\n",
       "            </tr>\n",
       "            <tr>\n",
       "                        <th id=\"T_c5388_level0_row3\" class=\"row_heading level0 row3\" >(161380.0, 214604.0]</th>\n",
       "                        <td id=\"T_c5388_row3_col0\" class=\"data row3 col0\" >4266.000</td>\n",
       "                        <td id=\"T_c5388_row3_col1\" class=\"data row3 col1\" >358.000</td>\n",
       "                        <td id=\"T_c5388_row3_col2\" class=\"data row3 col2\" >0.084</td>\n",
       "            </tr>\n",
       "            <tr>\n",
       "                        <th id=\"T_c5388_level0_row4\" class=\"row_heading level0 row4\" >(214604.0, 2265604.0]</th>\n",
       "                        <td id=\"T_c5388_row4_col0\" class=\"data row4 col0\" >4266.000</td>\n",
       "                        <td id=\"T_c5388_row4_col1\" class=\"data row4 col1\" >299.000</td>\n",
       "                        <td id=\"T_c5388_row4_col2\" class=\"data row4 col2\" >0.070</td>\n",
       "            </tr>\n",
       "    </tbody></table>"
      ],
      "text/plain": [
       "<pandas.io.formats.style.Styler at 0x7fd07bde95b0>"
      ]
     },
     "metadata": {},
     "output_type": "display_data"
    },
    {
     "data": {
      "text/html": [
       "<style  type=\"text/css\" >\n",
       "#T_258f1_row0_col0{\n",
       "            background-color:  #63a8d3;\n",
       "            color:  #000000;\n",
       "        }#T_258f1_row0_col1{\n",
       "            background-color:  #7ab6d9;\n",
       "            color:  #000000;\n",
       "        }#T_258f1_row0_col2{\n",
       "            background-color:  #60a7d2;\n",
       "            color:  #000000;\n",
       "        }#T_258f1_row1_col0,#T_258f1_row5_col0{\n",
       "            background-color:  #64a9d3;\n",
       "            color:  #000000;\n",
       "        }#T_258f1_row1_col1{\n",
       "            background-color:  #4e9acb;\n",
       "            color:  #000000;\n",
       "        }#T_258f1_row1_col2{\n",
       "            background-color:  #3383be;\n",
       "            color:  #000000;\n",
       "        }#T_258f1_row2_col0,#T_258f1_row2_col1,#T_258f1_row2_col2{\n",
       "            background-color:  #08306b;\n",
       "            color:  #f1f1f1;\n",
       "        }#T_258f1_row3_col0{\n",
       "            background-color:  #549fcd;\n",
       "            color:  #000000;\n",
       "        }#T_258f1_row3_col1{\n",
       "            background-color:  #3a8ac2;\n",
       "            color:  #000000;\n",
       "        }#T_258f1_row3_col2{\n",
       "            background-color:  #2373b6;\n",
       "            color:  #f1f1f1;\n",
       "        }#T_258f1_row4_col0,#T_258f1_row5_col1,#T_258f1_row5_col2{\n",
       "            background-color:  #f7fbff;\n",
       "            color:  #000000;\n",
       "        }#T_258f1_row4_col1{\n",
       "            background-color:  #a8cee4;\n",
       "            color:  #000000;\n",
       "        }#T_258f1_row4_col2{\n",
       "            background-color:  #5aa2cf;\n",
       "            color:  #000000;\n",
       "        }</style><table id=\"T_258f1_\" ><thead>    <tr>        <th class=\"blank level0\" ></th>        <th class=\"col_heading level0 col0\" >Всего кредитополучателей</th>        <th class=\"col_heading level0 col1\" >Всего должников</th>        <th class=\"col_heading level0 col2\" >Доля должников</th>    </tr>    <tr>        <th class=\"index_name level0\" >new_category</th>        <th class=\"blank\" ></th>        <th class=\"blank\" ></th>        <th class=\"blank\" ></th>    </tr></thead><tbody>\n",
       "                <tr>\n",
       "                        <th id=\"T_258f1_level0_row0\" class=\"row_heading level0 row0\" >(20666.0, 92092.0]</th>\n",
       "                        <td id=\"T_258f1_row0_col0\" class=\"data row0 col0\" >3556.000</td>\n",
       "                        <td id=\"T_258f1_row0_col1\" class=\"data row0 col1\" >285.000</td>\n",
       "                        <td id=\"T_258f1_row0_col2\" class=\"data row0 col2\" >0.080</td>\n",
       "            </tr>\n",
       "            <tr>\n",
       "                        <th id=\"T_258f1_level0_row1\" class=\"row_heading level0 row1\" >(92092.0, 119218.0]</th>\n",
       "                        <td id=\"T_258f1_row1_col0\" class=\"data row1 col0\" >3555.000</td>\n",
       "                        <td id=\"T_258f1_row1_col1\" class=\"data row1 col1\" >295.000</td>\n",
       "                        <td id=\"T_258f1_row1_col2\" class=\"data row1 col2\" >0.083</td>\n",
       "            </tr>\n",
       "            <tr>\n",
       "                        <th id=\"T_258f1_level0_row2\" class=\"row_heading level0 row2\" >(119218.0, 142594.0]</th>\n",
       "                        <td id=\"T_258f1_row2_col0\" class=\"data row2 col0\" >3672.000</td>\n",
       "                        <td id=\"T_258f1_row2_col1\" class=\"data row2 col1\" >327.000</td>\n",
       "                        <td id=\"T_258f1_row2_col2\" class=\"data row2 col2\" >0.089</td>\n",
       "            </tr>\n",
       "            <tr>\n",
       "                        <th id=\"T_258f1_level0_row3\" class=\"row_heading level0 row3\" >(142594.0, 172357.0]</th>\n",
       "                        <td id=\"T_258f1_row3_col0\" class=\"data row3 col0\" >3566.000</td>\n",
       "                        <td id=\"T_258f1_row3_col1\" class=\"data row3 col1\" >300.000</td>\n",
       "                        <td id=\"T_258f1_row3_col2\" class=\"data row3 col2\" >0.084</td>\n",
       "            </tr>\n",
       "            <tr>\n",
       "                        <th id=\"T_258f1_level0_row4\" class=\"row_heading level0 row4\" >(172357.0, 228893.0]</th>\n",
       "                        <td id=\"T_258f1_row4_col0\" class=\"data row4 col0\" >3427.000</td>\n",
       "                        <td id=\"T_258f1_row4_col1\" class=\"data row4 col1\" >276.000</td>\n",
       "                        <td id=\"T_258f1_row4_col2\" class=\"data row4 col2\" >0.081</td>\n",
       "            </tr>\n",
       "            <tr>\n",
       "                        <th id=\"T_258f1_level0_row5\" class=\"row_heading level0 row5\" >(228893.0, 2265604.0]</th>\n",
       "                        <td id=\"T_258f1_row5_col0\" class=\"data row5 col0\" >3555.000</td>\n",
       "                        <td id=\"T_258f1_row5_col1\" class=\"data row5 col1\" >249.000</td>\n",
       "                        <td id=\"T_258f1_row5_col2\" class=\"data row5 col2\" >0.070</td>\n",
       "            </tr>\n",
       "    </tbody></table>"
      ],
      "text/plain": [
       "<pandas.io.formats.style.Styler at 0x7fd07bde95b0>"
      ]
     },
     "metadata": {},
     "output_type": "display_data"
    },
    {
     "data": {
      "text/html": [
       "<style  type=\"text/css\" >\n",
       "#T_bf948_row0_col0,#T_bf948_row3_col1,#T_bf948_row3_col2,#T_bf948_row6_col0{\n",
       "            background-color:  #08306b;\n",
       "            color:  #f1f1f1;\n",
       "        }#T_bf948_row0_col1,#T_bf948_row0_col2{\n",
       "            background-color:  #8dc1dd;\n",
       "            color:  #000000;\n",
       "        }#T_bf948_row1_col0,#T_bf948_row2_col0,#T_bf948_row3_col0,#T_bf948_row4_col0,#T_bf948_row5_col0,#T_bf948_row6_col1,#T_bf948_row6_col2{\n",
       "            background-color:  #f7fbff;\n",
       "            color:  #000000;\n",
       "        }#T_bf948_row1_col1,#T_bf948_row1_col2{\n",
       "            background-color:  #083979;\n",
       "            color:  #f1f1f1;\n",
       "        }#T_bf948_row2_col1,#T_bf948_row2_col2{\n",
       "            background-color:  #083471;\n",
       "            color:  #f1f1f1;\n",
       "        }#T_bf948_row4_col1,#T_bf948_row4_col2{\n",
       "            background-color:  #09529d;\n",
       "            color:  #f1f1f1;\n",
       "        }#T_bf948_row5_col1,#T_bf948_row5_col2{\n",
       "            background-color:  #4f9bcb;\n",
       "            color:  #000000;\n",
       "        }</style><table id=\"T_bf948_\" ><thead>    <tr>        <th class=\"blank level0\" ></th>        <th class=\"col_heading level0 col0\" >Всего кредитополучателей</th>        <th class=\"col_heading level0 col1\" >Всего должников</th>        <th class=\"col_heading level0 col2\" >Доля должников</th>    </tr>    <tr>        <th class=\"index_name level0\" >new_category</th>        <th class=\"blank\" ></th>        <th class=\"blank\" ></th>        <th class=\"blank\" ></th>    </tr></thead><tbody>\n",
       "                <tr>\n",
       "                        <th id=\"T_bf948_level0_row0\" class=\"row_heading level0 row0\" >(20666.0, 87287.0]</th>\n",
       "                        <td id=\"T_bf948_row0_col0\" class=\"data row0 col0\" >3048.000</td>\n",
       "                        <td id=\"T_bf948_row0_col1\" class=\"data row0 col1\" >233.000</td>\n",
       "                        <td id=\"T_bf948_row0_col2\" class=\"data row0 col2\" >0.076</td>\n",
       "            </tr>\n",
       "            <tr>\n",
       "                        <th id=\"T_bf948_level0_row1\" class=\"row_heading level0 row1\" >(87287.0, 113563.0]</th>\n",
       "                        <td id=\"T_bf948_row1_col0\" class=\"data row1 col0\" >3047.000</td>\n",
       "                        <td id=\"T_bf948_row1_col1\" class=\"data row1 col1\" >262.000</td>\n",
       "                        <td id=\"T_bf948_row1_col2\" class=\"data row1 col2\" >0.086</td>\n",
       "            </tr>\n",
       "            <tr>\n",
       "                        <th id=\"T_bf948_level0_row2\" class=\"row_heading level0 row2\" >(113563.0, 137465.0]</th>\n",
       "                        <td id=\"T_bf948_row2_col0\" class=\"data row2 col0\" >3047.000</td>\n",
       "                        <td id=\"T_bf948_row2_col1\" class=\"data row2 col1\" >263.000</td>\n",
       "                        <td id=\"T_bf948_row2_col2\" class=\"data row2 col2\" >0.086</td>\n",
       "            </tr>\n",
       "            <tr>\n",
       "                        <th id=\"T_bf948_level0_row3\" class=\"row_heading level0 row3\" >(137465.0, 155314.0]</th>\n",
       "                        <td id=\"T_bf948_row3_col0\" class=\"data row3 col0\" >3047.000</td>\n",
       "                        <td id=\"T_bf948_row3_col1\" class=\"data row3 col1\" >264.000</td>\n",
       "                        <td id=\"T_bf948_row3_col2\" class=\"data row3 col2\" >0.087</td>\n",
       "            </tr>\n",
       "            <tr>\n",
       "                        <th id=\"T_bf948_level0_row4\" class=\"row_heading level0 row4\" >(155314.0, 184554.0]</th>\n",
       "                        <td id=\"T_bf948_row4_col0\" class=\"data row4 col0\" >3047.000</td>\n",
       "                        <td id=\"T_bf948_row4_col1\" class=\"data row4 col1\" >257.000</td>\n",
       "                        <td id=\"T_bf948_row4_col2\" class=\"data row4 col2\" >0.084</td>\n",
       "            </tr>\n",
       "            <tr>\n",
       "                        <th id=\"T_bf948_level0_row5\" class=\"row_heading level0 row5\" >(184554.0, 242009.0]</th>\n",
       "                        <td id=\"T_bf948_row5_col0\" class=\"data row5 col0\" >3047.000</td>\n",
       "                        <td id=\"T_bf948_row5_col1\" class=\"data row5 col1\" >242.000</td>\n",
       "                        <td id=\"T_bf948_row5_col2\" class=\"data row5 col2\" >0.079</td>\n",
       "            </tr>\n",
       "            <tr>\n",
       "                        <th id=\"T_bf948_level0_row6\" class=\"row_heading level0 row6\" >(242009.0, 2265604.0]</th>\n",
       "                        <td id=\"T_bf948_row6_col0\" class=\"data row6 col0\" >3048.000</td>\n",
       "                        <td id=\"T_bf948_row6_col1\" class=\"data row6 col1\" >211.000</td>\n",
       "                        <td id=\"T_bf948_row6_col2\" class=\"data row6 col2\" >0.069</td>\n",
       "            </tr>\n",
       "    </tbody></table>"
      ],
      "text/plain": [
       "<pandas.io.formats.style.Styler at 0x7fd073ced370>"
      ]
     },
     "metadata": {},
     "output_type": "display_data"
    },
    {
     "data": {
      "text/html": [
       "<style  type=\"text/css\" >\n",
       "#T_74b12_row0_col0,#T_74b12_row5_col0,#T_74b12_row7_col0{\n",
       "            background-color:  #6aaed6;\n",
       "            color:  #000000;\n",
       "        }#T_74b12_row0_col1{\n",
       "            background-color:  #aacfe5;\n",
       "            color:  #000000;\n",
       "        }#T_74b12_row0_col2{\n",
       "            background-color:  #91c3de;\n",
       "            color:  #000000;\n",
       "        }#T_74b12_row1_col0,#T_74b12_row2_col0{\n",
       "            background-color:  #6caed6;\n",
       "            color:  #000000;\n",
       "        }#T_74b12_row1_col1,#T_74b12_row5_col1{\n",
       "            background-color:  #519ccc;\n",
       "            color:  #000000;\n",
       "        }#T_74b12_row1_col2,#T_74b12_row5_col2{\n",
       "            background-color:  #2f7fbc;\n",
       "            color:  #000000;\n",
       "        }#T_74b12_row2_col1{\n",
       "            background-color:  #1c6ab0;\n",
       "            color:  #f1f1f1;\n",
       "        }#T_74b12_row2_col2{\n",
       "            background-color:  #084285;\n",
       "            color:  #f1f1f1;\n",
       "        }#T_74b12_row3_col0,#T_74b12_row3_col1,#T_74b12_row3_col2{\n",
       "            background-color:  #08306b;\n",
       "            color:  #f1f1f1;\n",
       "        }#T_74b12_row4_col0,#T_74b12_row7_col1,#T_74b12_row7_col2{\n",
       "            background-color:  #f7fbff;\n",
       "            color:  #000000;\n",
       "        }#T_74b12_row4_col1{\n",
       "            background-color:  #4695c8;\n",
       "            color:  #000000;\n",
       "        }#T_74b12_row4_col2{\n",
       "            background-color:  #084184;\n",
       "            color:  #f1f1f1;\n",
       "        }#T_74b12_row6_col0{\n",
       "            background-color:  #6dafd7;\n",
       "            color:  #000000;\n",
       "        }#T_74b12_row6_col1{\n",
       "            background-color:  #d4e4f4;\n",
       "            color:  #000000;\n",
       "        }#T_74b12_row6_col2{\n",
       "            background-color:  #cddff1;\n",
       "            color:  #000000;\n",
       "        }</style><table id=\"T_74b12_\" ><thead>    <tr>        <th class=\"blank level0\" ></th>        <th class=\"col_heading level0 col0\" >Всего кредитополучателей</th>        <th class=\"col_heading level0 col1\" >Всего должников</th>        <th class=\"col_heading level0 col2\" >Доля должников</th>    </tr>    <tr>        <th class=\"index_name level0\" >new_category</th>        <th class=\"blank\" ></th>        <th class=\"blank\" ></th>        <th class=\"blank\" ></th>    </tr></thead><tbody>\n",
       "                <tr>\n",
       "                        <th id=\"T_74b12_level0_row0\" class=\"row_heading level0 row0\" >(20666.0, 83837.0]</th>\n",
       "                        <td id=\"T_74b12_row0_col0\" class=\"data row0 col0\" >2667.000</td>\n",
       "                        <td id=\"T_74b12_row0_col1\" class=\"data row0 col1\" >206.000</td>\n",
       "                        <td id=\"T_74b12_row0_col2\" class=\"data row0 col2\" >0.077</td>\n",
       "            </tr>\n",
       "            <tr>\n",
       "                        <th id=\"T_74b12_level0_row1\" class=\"row_heading level0 row1\" >(83837.0, 107507.0]</th>\n",
       "                        <td id=\"T_74b12_row1_col0\" class=\"data row1 col0\" >2666.000</td>\n",
       "                        <td id=\"T_74b12_row1_col1\" class=\"data row1 col1\" >221.000</td>\n",
       "                        <td id=\"T_74b12_row1_col2\" class=\"data row1 col2\" >0.083</td>\n",
       "            </tr>\n",
       "            <tr>\n",
       "                        <th id=\"T_74b12_level0_row2\" class=\"row_heading level0 row2\" >(107507.0, 127546.0]</th>\n",
       "                        <td id=\"T_74b12_row2_col0\" class=\"data row2 col0\" >2666.000</td>\n",
       "                        <td id=\"T_74b12_row2_col1\" class=\"data row2 col1\" >233.000</td>\n",
       "                        <td id=\"T_74b12_row2_col2\" class=\"data row2 col2\" >0.087</td>\n",
       "            </tr>\n",
       "            <tr>\n",
       "                        <th id=\"T_74b12_level0_row3\" class=\"row_heading level0 row3\" >(127546.0, 142594.0]</th>\n",
       "                        <td id=\"T_74b12_row3_col0\" class=\"data row3 col0\" >2784.000</td>\n",
       "                        <td id=\"T_74b12_row3_col1\" class=\"data row3 col1\" >247.000</td>\n",
       "                        <td id=\"T_74b12_row3_col2\" class=\"data row3 col2\" >0.089</td>\n",
       "            </tr>\n",
       "            <tr>\n",
       "                        <th id=\"T_74b12_level0_row4\" class=\"row_heading level0 row4\" >(142594.0, 166525.0]</th>\n",
       "                        <td id=\"T_74b12_row4_col0\" class=\"data row4 col0\" >2549.000</td>\n",
       "                        <td id=\"T_74b12_row4_col1\" class=\"data row4 col1\" >223.000</td>\n",
       "                        <td id=\"T_74b12_row4_col2\" class=\"data row4 col2\" >0.087</td>\n",
       "            </tr>\n",
       "            <tr>\n",
       "                        <th id=\"T_74b12_level0_row5\" class=\"row_heading level0 row5\" >(166525.0, 195842.0]</th>\n",
       "                        <td id=\"T_74b12_row5_col0\" class=\"data row5 col0\" >2667.000</td>\n",
       "                        <td id=\"T_74b12_row5_col1\" class=\"data row5 col1\" >221.000</td>\n",
       "                        <td id=\"T_74b12_row5_col2\" class=\"data row5 col2\" >0.083</td>\n",
       "            </tr>\n",
       "            <tr>\n",
       "                        <th id=\"T_74b12_level0_row6\" class=\"row_heading level0 row6\" >(195842.0, 254250.0]</th>\n",
       "                        <td id=\"T_74b12_row6_col0\" class=\"data row6 col0\" >2665.000</td>\n",
       "                        <td id=\"T_74b12_row6_col1\" class=\"data row6 col1\" >196.000</td>\n",
       "                        <td id=\"T_74b12_row6_col2\" class=\"data row6 col2\" >0.074</td>\n",
       "            </tr>\n",
       "            <tr>\n",
       "                        <th id=\"T_74b12_level0_row7\" class=\"row_heading level0 row7\" >(254250.0, 2265604.0]</th>\n",
       "                        <td id=\"T_74b12_row7_col0\" class=\"data row7 col0\" >2667.000</td>\n",
       "                        <td id=\"T_74b12_row7_col1\" class=\"data row7 col1\" >185.000</td>\n",
       "                        <td id=\"T_74b12_row7_col2\" class=\"data row7 col2\" >0.069</td>\n",
       "            </tr>\n",
       "    </tbody></table>"
      ],
      "text/plain": [
       "<pandas.io.formats.style.Styler at 0x7fd0fe5d3d30>"
      ]
     },
     "metadata": {},
     "output_type": "display_data"
    }
   ],
   "source": [
    "# Комментарий ревьюера 2\n",
    "temp = data.copy()\n",
    "start, stop = 3, 8 # начальное и конечное количество категорий\n",
    "while start <= stop:\n",
    "    temp['new_category'] = pd.qcut(temp['total_income'], q=start, precision=0)\n",
    "    que('new_category')\n",
    "    start += 1"
   ]
  },
  {
   "cell_type": "markdown",
   "id": "1dcc9b12",
   "metadata": {
    "deletable": false,
    "editable": false,
    "id": "1dcc9b12"
   },
   "source": [
    "#### Как разные цели кредита влияют на его возврат в срок?"
   ]
  },
  {
   "cell_type": "markdown",
   "id": "abd56225",
   "metadata": {},
   "source": [
    "<a class=\"anchor\" id=\"purpose_category\"></a>\n",
    "На основании подготовленых групп целевых кредитов в столбце\n",
    "'purpose_category'.  \n",
    "'операции с автомобилем',  \n",
    "'операции с недвижимостью',  \n",
    "'проведение свадьбы',  \n",
    "'получение образования'."
   ]
  },
  {
   "cell_type": "code",
   "execution_count": 29,
   "id": "c602bc8b",
   "metadata": {
    "deletable": false,
    "id": "c602bc8b"
   },
   "outputs": [
    {
     "name": "stdout",
     "output_type": "stream",
     "text": [
      "              Name Group  All Peopele  Debt Count  % Debt\n",
      "      проведение свадьбы         2313         183    7.91\n",
      "   получение образования         3988         369    9.25\n",
      "операции с недвижимостью        10751         780    7.26\n",
      "  операции с автомобилем         4279         400    9.35\n"
     ]
    }
   ],
   "source": [
    "array_data = []\n",
    "# Группы по целевым гредитам.\n",
    "purpose_groups = data['purpose_category'].unique()\n",
    "group_object = 'purpose_category'\n",
    "for group in purpose_groups:\n",
    "    array_data.append(group_data(group, group_object))\n",
    "    \n",
    "combined_df = pd.concat(array_data, axis=0).sort_values(by='Name Group', ascending=False)\n",
    "\n",
    "print(combined_df.to_string(index=False))"
   ]
  },
  {
   "cell_type": "code",
   "execution_count": 30,
   "id": "1ce7dd4c",
   "metadata": {},
   "outputs": [
    {
     "name": "stdout",
     "output_type": "stream",
     "text": [
      "43.13013402507566\n",
      "43.4154964894684\n",
      "43.16891451957957\n",
      "43.50362234166862\n"
     ]
    }
   ],
   "source": [
    "# Проверим зависимость от возраста.\n",
    "group_7_91 = data.loc[data['purpose_category']=='проведение свадьбы', 'dob_years'].mean()\n",
    "group_9_25 = data.loc[data['purpose_category']=='получение образования', 'dob_years'].mean()\n",
    "group_7_26 = data.loc[data['purpose_category']=='операции с недвижимостью', 'dob_years'].mean()\n",
    "group_9_35 = data.loc[data['purpose_category']=='операции с автомобилем', 'dob_years'].mean()\n",
    "\n",
    "print(group_7_91)\n",
    "print(group_9_25)\n",
    "print(group_7_26)\n",
    "print(group_9_35)\n",
    "# Зависимость от возраста заемщика не выевлена."
   ]
  },
  {
   "cell_type": "code",
   "execution_count": 31,
   "id": "0fd7470a",
   "metadata": {},
   "outputs": [
    {
     "name": "stdout",
     "output_type": "stream",
     "text": [
      "операции с недвижимостью\n",
      "C    7997\n",
      "B    2558\n",
      "D     168\n",
      "A      17\n",
      "E      11\n",
      "Name: total_income_category, dtype: int64\n",
      "---------------\n",
      "операции с автомобилем\n",
      "C    3181\n",
      "B    1022\n",
      "D      72\n",
      "A       2\n",
      "E       2\n",
      "Name: total_income_category, dtype: int64\n",
      "---------------\n",
      "получение образования\n",
      "C    3014\n",
      "B     890\n",
      "D      75\n",
      "E       5\n",
      "A       4\n",
      "Name: total_income_category, dtype: int64\n",
      "---------------\n",
      "проведение свадьбы\n",
      "C    1729\n",
      "B     544\n",
      "D      34\n",
      "E       4\n",
      "A       2\n",
      "Name: total_income_category, dtype: int64\n",
      "---------------\n"
     ]
    }
   ],
   "source": [
    "# Порверим зависимость от уровня доходов заемщика.\n",
    "purpose_category = data['purpose_category'].unique()\n",
    "\n",
    "for i in purpose_category:\n",
    "    rows = (data['purpose_category'] == i)\n",
    "    print(i)\n",
    "    test = data.loc[rows, 'total_income_category'].value_counts()\n",
    "    print(test)\n",
    "    print('---------------')"
   ]
  },
  {
   "cell_type": "markdown",
   "id": "cf05ed63",
   "metadata": {
    "deletable": false,
    "id": "cf05ed63"
   },
   "source": [
    "**Вывод:** Сильной разницы в количестве просрочек по группам целевых кредитов не наблюдается. Наименьший % просрочек наблюдается при операциях с недвижимостью. В данной группе заемщиков присутствует наибольшее кол-во из группы \"В\" с ежемесечной доходностью > 200000 рублей. Это явный признак того что данный тип кредитов берут в основном люди состоятельные с высокой степенью осознонасти."
   ]
  },
  {
   "cell_type": "markdown",
   "id": "46c1f10b",
   "metadata": {
    "deletable": false,
    "editable": false,
    "id": "46c1f10b"
   },
   "source": [
    "#### Приведите возможные причины появления пропусков в исходных данных."
   ]
  },
  {
   "cell_type": "markdown",
   "id": "3697d2a9",
   "metadata": {
    "deletable": false,
    "id": "3697d2a9"
   },
   "source": [
    "*Ответ:* Причины пропусков данных могут быть разнообразными:\n",
    "\n",
    "1. Ошибки при сборе данных\n",
    "Неправильное заполнение форм: Например, опросники или формы ввода данных могут быть неправильно заполнены пользователями.\n",
    "Технические сбои: Сбои в оборудовании или программном обеспечении могут привести к потере данных во время их сбора.\n",
    "2. Отсутствие информации\n",
    "Отказ от ответа: В опросах и анкетировании люди могут отказаться отвечать на определенные вопросы.\n",
    "Недоступность данных: Некоторые данные могут быть недоступны из-за ограничений доступа, конфиденциальности или правовых ограничений.\n",
    "3. Ошибки в процессе обработки данных\n",
    "Ошибки при очистке данных: Например, неправильное удаление шума или выбросов может привести к потере важной информации.\n",
    "Неправильная агрегация данных: Некорректное объединение или группировка данных может привести к пропускам.\n",
    "4. Проблемы с данными\n",
    "Неполные записи: В некоторых случаях данные могут быть неполными изначально, например, если система не требует заполнения всех полей.\n",
    "Исключение выбросов: Иногда данные исключаются как аномалии или выбросы без должного обоснования.\n",
    "5. Случайные пропуски\n",
    "Случайное отсутствие данных: Например, некоторые значения могут быть случайно пропущены при вводе данных или их передаче."
   ]
  },
  {
   "cell_type": "markdown",
   "id": "3137d257",
   "metadata": {
    "deletable": false,
    "editable": false,
    "id": "3137d257"
   },
   "source": [
    "#### Объясните, почему заполнить пропуски медианным значением — лучшее решение для количественных переменных."
   ]
  },
  {
   "cell_type": "markdown",
   "id": "cf40012a",
   "metadata": {
    "deletable": false,
    "id": "cf40012a"
   },
   "source": [
    "*Ответ:* Заполнение пропусков медианным значением является одним из методов замещения пропущенных данных, особенно популярным для количественных переменных. Этот метод имеет ряд преимуществ по сравнению с другими подходами:\n",
    "\n",
    "1. Устойчивость к выбросам\n",
    "Медиана является мерой центральной тенденции, которая менее чувствительна к выбросам по сравнению со средним значением. Если в данных присутствуют экстремальные значения, среднее значение может быть сильно искажено, в то время как медиана остается более стабильной и отражает \"средний\" случай в данных. Это делает медиану предпочтительной для данных с асимметричным распределением или наличием выбросов.\n",
    "\n",
    "2. Отражение реального центра распределения\n",
    "Медиана делит набор данных пополам, что позволяет более точно оценить центральное значение распределения, особенно если оно асимметрично. Среднее значение может смещаться в сторону выбросов, в то время как медиана предоставляет более объективное представление о том, где находится \"центр масс\" данных.\n",
    "\n",
    "3. Простота интерпретации и вычисления\n",
    "Медиана легко понимается и интерпретируется, так как она представляет собой значение, которое делит данные на две равные части. Это делает ее удобной для использования в анализе данных и при принятии решений на основе данных. Кроме того, медиану легко вычислить даже вручную или с помощью простых статистических инструментов.\n",
    "\n",
    "4. Минимизация искажения распределения\n",
    "Использование медианы для заполнения пропусков помогает сохранить исходное распределение данных, минимизируя риск его искажения. В отличие от среднего значения, медиана не приводит к созданию искусственных \"средних\" значений, которые могут исказить распределение"
   ]
  },
  {
   "cell_type": "code",
   "execution_count": 35,
   "id": "31617914",
   "metadata": {},
   "outputs": [
    {
     "name": "stdout",
     "output_type": "stream",
     "text": [
      "Среднее 67148.97213258488\n",
      "Медиана 1996.732855437927\n",
      "Во сколько раз среднее превышает медиану 34\n"
     ]
    }
   ],
   "source": [
    "# Комментарий ревьюера 2\n",
    "a, b, = data.days_employed.mean(), data.days_employed.median()\n",
    "print('Среднее', a)\n",
    "print('Медиана', b)\n",
    "print('Во сколько раз среднее превышает медиану', round(a/b))"
   ]
  },
  {
   "cell_type": "markdown",
   "id": "57bc304e",
   "metadata": {
    "deletable": false,
    "editable": false,
    "id": "57bc304e"
   },
   "source": [
    "### Общий вывод."
   ]
  },
  {
   "cell_type": "markdown",
   "id": "1ab75d1c",
   "metadata": {
    "deletable": false,
    "id": "1ab75d1c"
   },
   "source": [
    "##### Подготовительные шаги работы с данными включали: \n",
    "* выявление пропусков и заполнение их нужными значениями, а именно в столбце `total_income` содержалось пропусков 10% от общего кол-ва. Размер не критичный и заполение этих данных медианными значениями позволит провести данный анализ.\n",
    "* в столбце `education`все значения преведены к нижнему регистру\n",
    "* Созданы группы по уровню доходов для разделения заемщиков:  \n",
    "    0–30000 — 'E';  \n",
    "    30001–50000 — 'D';  \n",
    "    50001–200000 — 'C';  \n",
    "    200001–1000000 — 'B';  \n",
    "    1000001 и выше — 'A'.  \n",
    "* все кредиты распределены на целевые группы:  \n",
    "    'операции с автомобилем',  \n",
    "    'операции с недвижимостью',  \n",
    "    'проведение свадьбы',  \n",
    "    'получение образования'.  \n",
    "\n",
    "##### Результат анализа данных файла \"data.csv\" показал следующие. По заданным вопросам в результате иследования получились следующие результаты:\n",
    "\n",
    "1) [Есть ли зависимость между количеством детей и возвратом кредита в срок?](#children)\n",
    "\n",
    "    Прямой ярко выраженной зависимости между кол-вом детей и наличием просрочек НЕТ. Однако можно заметить что семьи без детей выплачивают кредиты вовремя чаще чем семьи с детьми, доля просрочек у семей без детей наименьшая и состовляет 7.54%. \n",
    "\n",
    "2) [Есть ли зависимость между семейным положением и возвратом кредита в срок?](#family_status)\n",
    "\n",
    "    Аналогичная ситуация с первым вопросом, сильно выраженной зависимости семейного положения к наличию просроченных кредитных обязательств нет. Можно лиш отметить, что наличие просрочки меньше у группы \"вдовец/вдова\" - 6.62% по оттношению к группе \"Не женет/не замужем\" - 9.76%, это можно обьеснить разницей в среднем созрасте между данными групами, она составляет 18 лет. Люди в возрасте более ответственные.\n",
    "\n",
    "3) [Есть ли зависимость между уровнем дохода и возвратом кредита в срок?](#total_income_category)\n",
    "\n",
    "    Из полученных данных получаем, что максимальную просрочку по кредитным обязательствам имеет группа \"С\" с диопазоном - 50001–200000, но она же относится к самой массовой группе заемщиков. С этим и связан ее повышеный % просрочек.\n",
    "\n",
    "4) [Как разные цели кредита влияют на его возврат в срок?](#purpose_category)\n",
    "\n",
    "    Наибольший процент просрочек в группах \"получение образования\" и \"операции с автомобилем\"  Наименьший % просрочек наблюдается при операциях с недвижимостью. В данной группе заемщиков присутствует наибольшее кол-во из группы \"В\" с ежемесечной доходностью > 200000 рублей. Это явный признак того что данный тип кредитов берут в основном люди состоятельные с высокой степенью осознонасти. Зависимость от возраста заемщика не подтвердилась тк средний возраст по каждой группе == 43 года. \n"
   ]
  }
 ],
 "metadata": {
  "ExecuteTimeLog": [
   {
    "duration": 521,
    "start_time": "2024-07-15T13:06:23.508Z"
   },
   {
    "duration": 22,
    "start_time": "2024-07-15T13:06:27.790Z"
   },
   {
    "duration": 23,
    "start_time": "2024-07-15T13:06:31.751Z"
   },
   {
    "duration": 11,
    "start_time": "2024-07-15T13:06:35.077Z"
   },
   {
    "duration": 37,
    "start_time": "2024-07-15T13:06:37.177Z"
   },
   {
    "duration": 3,
    "start_time": "2024-07-15T13:06:39.635Z"
   },
   {
    "duration": 8,
    "start_time": "2024-07-15T13:06:41.938Z"
   },
   {
    "duration": 5,
    "start_time": "2024-07-15T13:06:45.045Z"
   },
   {
    "duration": 7,
    "start_time": "2024-07-15T13:06:46.795Z"
   },
   {
    "duration": 4,
    "start_time": "2024-07-15T13:06:48.653Z"
   },
   {
    "duration": 35,
    "start_time": "2024-07-15T13:06:52.555Z"
   },
   {
    "duration": 10,
    "start_time": "2024-07-15T13:06:54.675Z"
   },
   {
    "duration": 4,
    "start_time": "2024-07-15T13:07:02.224Z"
   },
   {
    "duration": 14,
    "start_time": "2024-07-15T13:07:05.363Z"
   },
   {
    "duration": 21,
    "start_time": "2024-07-15T13:07:07.649Z"
   },
   {
    "duration": 5,
    "start_time": "2024-07-15T13:07:14.456Z"
   },
   {
    "duration": 12,
    "start_time": "2024-07-15T13:07:29.433Z"
   },
   {
    "duration": 6,
    "start_time": "2024-07-15T13:07:31.916Z"
   },
   {
    "duration": 4,
    "start_time": "2024-07-15T13:07:36.222Z"
   },
   {
    "duration": 10,
    "start_time": "2024-07-15T13:07:39.709Z"
   },
   {
    "duration": 6,
    "start_time": "2024-07-15T13:09:40.017Z"
   },
   {
    "duration": 6,
    "start_time": "2024-07-15T13:10:57.677Z"
   },
   {
    "duration": 4,
    "start_time": "2024-07-15T13:15:42.373Z"
   },
   {
    "duration": 6,
    "start_time": "2024-07-15T13:22:36.824Z"
   },
   {
    "duration": 5,
    "start_time": "2024-07-15T13:23:09.122Z"
   },
   {
    "duration": 5,
    "start_time": "2024-07-15T13:23:21.349Z"
   },
   {
    "duration": 6,
    "start_time": "2024-07-15T13:29:10.281Z"
   },
   {
    "duration": 76,
    "start_time": "2024-07-15T13:30:21.861Z"
   },
   {
    "duration": 6,
    "start_time": "2024-07-15T13:30:52.812Z"
   },
   {
    "duration": 16,
    "start_time": "2024-07-15T13:37:58.907Z"
   },
   {
    "duration": 12,
    "start_time": "2024-07-15T13:38:18.689Z"
   },
   {
    "duration": 11,
    "start_time": "2024-07-15T13:38:37.301Z"
   },
   {
    "duration": 11,
    "start_time": "2024-07-15T13:38:47.277Z"
   },
   {
    "duration": 12,
    "start_time": "2024-07-15T13:39:56.355Z"
   },
   {
    "duration": 8,
    "start_time": "2024-07-15T13:40:48.155Z"
   },
   {
    "duration": 276,
    "start_time": "2024-07-15T13:41:22.203Z"
   },
   {
    "duration": 9,
    "start_time": "2024-07-15T13:43:10.063Z"
   },
   {
    "duration": 260,
    "start_time": "2024-07-15T13:43:36.707Z"
   },
   {
    "duration": 8,
    "start_time": "2024-07-15T13:43:41.479Z"
   },
   {
    "duration": 2,
    "start_time": "2024-07-15T13:49:25.460Z"
   },
   {
    "duration": 14,
    "start_time": "2024-07-15T13:51:50.451Z"
   },
   {
    "duration": 7,
    "start_time": "2024-07-15T13:54:01.435Z"
   },
   {
    "duration": 9,
    "start_time": "2024-07-15T13:54:24.393Z"
   },
   {
    "duration": 7,
    "start_time": "2024-07-15T13:54:37.563Z"
   },
   {
    "duration": 6,
    "start_time": "2024-07-15T13:57:25.376Z"
   },
   {
    "duration": 8,
    "start_time": "2024-07-15T13:59:17.662Z"
   },
   {
    "duration": 6,
    "start_time": "2024-07-15T13:59:23.694Z"
   },
   {
    "duration": 5,
    "start_time": "2024-07-15T13:59:30.840Z"
   },
   {
    "duration": 6,
    "start_time": "2024-07-15T13:59:37.516Z"
   },
   {
    "duration": 2,
    "start_time": "2024-07-15T14:10:51.925Z"
   },
   {
    "duration": 15,
    "start_time": "2024-07-15T14:11:45.007Z"
   },
   {
    "duration": 5,
    "start_time": "2024-07-15T14:13:04.476Z"
   },
   {
    "duration": 5,
    "start_time": "2024-07-15T14:13:23.924Z"
   },
   {
    "duration": 8,
    "start_time": "2024-07-15T14:22:07.435Z"
   },
   {
    "duration": 7,
    "start_time": "2024-07-15T14:24:31.847Z"
   },
   {
    "duration": 10,
    "start_time": "2024-07-15T14:25:49.653Z"
   },
   {
    "duration": 9,
    "start_time": "2024-07-15T14:29:16.156Z"
   },
   {
    "duration": 1117,
    "start_time": "2024-07-15T14:32:59.257Z"
   },
   {
    "duration": 12,
    "start_time": "2024-07-15T14:36:57.187Z"
   },
   {
    "duration": 5,
    "start_time": "2024-07-15T14:37:24.927Z"
   },
   {
    "duration": 15,
    "start_time": "2024-07-15T14:42:26.707Z"
   },
   {
    "duration": 9,
    "start_time": "2024-07-15T14:43:27.572Z"
   },
   {
    "duration": 7,
    "start_time": "2024-07-15T14:44:15.132Z"
   },
   {
    "duration": 5,
    "start_time": "2024-07-15T14:50:49.521Z"
   },
   {
    "duration": 6,
    "start_time": "2024-07-15T14:50:54.262Z"
   },
   {
    "duration": 7,
    "start_time": "2024-07-15T14:51:03.340Z"
   },
   {
    "duration": 9,
    "start_time": "2024-07-15T15:07:29.750Z"
   },
   {
    "duration": 4,
    "start_time": "2024-07-15T15:07:39.474Z"
   },
   {
    "duration": 4,
    "start_time": "2024-07-15T15:07:55.540Z"
   },
   {
    "duration": 9,
    "start_time": "2024-07-15T15:10:14.174Z"
   },
   {
    "duration": 9,
    "start_time": "2024-07-15T15:10:30.677Z"
   },
   {
    "duration": 4,
    "start_time": "2024-07-15T15:10:36.824Z"
   },
   {
    "duration": 27,
    "start_time": "2024-07-15T15:10:39.294Z"
   },
   {
    "duration": 5,
    "start_time": "2024-07-15T15:11:02.791Z"
   },
   {
    "duration": 22,
    "start_time": "2024-07-15T15:11:11.647Z"
   },
   {
    "duration": 4,
    "start_time": "2024-07-15T15:13:36.919Z"
   },
   {
    "duration": 23,
    "start_time": "2024-07-15T15:13:39.252Z"
   },
   {
    "duration": 29,
    "start_time": "2024-07-15T15:16:05.436Z"
   },
   {
    "duration": 20,
    "start_time": "2024-07-15T15:16:47.631Z"
   },
   {
    "duration": 301,
    "start_time": "2024-07-15T15:16:51.870Z"
   },
   {
    "duration": 1564,
    "start_time": "2024-07-15T15:17:48.986Z"
   },
   {
    "duration": 274,
    "start_time": "2024-07-15T15:18:04.227Z"
   },
   {
    "duration": 21,
    "start_time": "2024-07-15T15:18:17.227Z"
   },
   {
    "duration": 16,
    "start_time": "2024-07-15T15:18:41.473Z"
   },
   {
    "duration": 17,
    "start_time": "2024-07-15T15:22:49.428Z"
   },
   {
    "duration": 17,
    "start_time": "2024-07-15T15:22:51.201Z"
   },
   {
    "duration": 4,
    "start_time": "2024-07-15T15:31:35.499Z"
   },
   {
    "duration": 4,
    "start_time": "2024-07-15T15:31:45.806Z"
   },
   {
    "duration": 18,
    "start_time": "2024-07-15T15:31:47.924Z"
   },
   {
    "duration": 17,
    "start_time": "2024-07-15T15:33:40.115Z"
   },
   {
    "duration": 4,
    "start_time": "2024-07-15T15:34:40.904Z"
   },
   {
    "duration": 17,
    "start_time": "2024-07-15T15:34:45.598Z"
   },
   {
    "duration": 4,
    "start_time": "2024-07-15T15:35:15.339Z"
   },
   {
    "duration": 20,
    "start_time": "2024-07-15T15:35:17.192Z"
   },
   {
    "duration": 8,
    "start_time": "2024-07-15T15:38:27.551Z"
   },
   {
    "duration": 5,
    "start_time": "2024-07-15T15:48:27.883Z"
   },
   {
    "duration": 22,
    "start_time": "2024-07-15T15:48:30.936Z"
   },
   {
    "duration": 20,
    "start_time": "2024-07-15T16:13:40.681Z"
   },
   {
    "duration": 9,
    "start_time": "2024-07-15T16:13:47.929Z"
   },
   {
    "duration": 18,
    "start_time": "2024-07-15T16:23:40.437Z"
   },
   {
    "duration": 23,
    "start_time": "2024-07-15T16:24:22.490Z"
   },
   {
    "duration": 22,
    "start_time": "2024-07-15T16:25:12.478Z"
   },
   {
    "duration": 21,
    "start_time": "2024-07-15T16:26:11.098Z"
   },
   {
    "duration": 22,
    "start_time": "2024-07-15T16:26:23.457Z"
   },
   {
    "duration": 18,
    "start_time": "2024-07-15T16:26:58.813Z"
   },
   {
    "duration": 31,
    "start_time": "2024-07-15T16:27:37.098Z"
   },
   {
    "duration": 28,
    "start_time": "2024-07-15T16:27:46.574Z"
   },
   {
    "duration": 11,
    "start_time": "2024-07-15T16:28:33.968Z"
   },
   {
    "duration": 7,
    "start_time": "2024-07-15T16:32:11.577Z"
   },
   {
    "duration": 10,
    "start_time": "2024-07-15T16:34:04.181Z"
   },
   {
    "duration": 11,
    "start_time": "2024-07-15T16:34:23.794Z"
   },
   {
    "duration": 10,
    "start_time": "2024-07-15T16:37:10.887Z"
   },
   {
    "duration": 10,
    "start_time": "2024-07-15T16:37:44.274Z"
   },
   {
    "duration": 18,
    "start_time": "2024-07-15T16:38:05.812Z"
   },
   {
    "duration": 18,
    "start_time": "2024-07-15T16:40:21.659Z"
   },
   {
    "duration": 9,
    "start_time": "2024-07-15T16:41:45.497Z"
   },
   {
    "duration": 57,
    "start_time": "2024-07-15T16:43:42.038Z"
   },
   {
    "duration": 9,
    "start_time": "2024-07-15T16:43:47.020Z"
   },
   {
    "duration": 17,
    "start_time": "2024-07-15T16:44:10.606Z"
   },
   {
    "duration": 16,
    "start_time": "2024-07-15T16:44:40.103Z"
   },
   {
    "duration": 18,
    "start_time": "2024-07-15T16:44:51.583Z"
   },
   {
    "duration": 20,
    "start_time": "2024-07-15T16:45:52.329Z"
   },
   {
    "duration": 27,
    "start_time": "2024-07-15T16:46:03.365Z"
   },
   {
    "duration": 18,
    "start_time": "2024-07-15T16:46:17.021Z"
   },
   {
    "duration": 20,
    "start_time": "2024-07-15T16:46:50.828Z"
   },
   {
    "duration": 19,
    "start_time": "2024-07-15T16:47:03.313Z"
   },
   {
    "duration": 58,
    "start_time": "2024-07-15T16:47:26.860Z"
   },
   {
    "duration": 17,
    "start_time": "2024-07-15T16:47:35.176Z"
   },
   {
    "duration": 4,
    "start_time": "2024-07-15T16:51:32.710Z"
   },
   {
    "duration": 5,
    "start_time": "2024-07-15T16:51:38.851Z"
   },
   {
    "duration": 5,
    "start_time": "2024-07-15T16:52:42.773Z"
   },
   {
    "duration": 17,
    "start_time": "2024-07-15T16:52:44.902Z"
   },
   {
    "duration": 5,
    "start_time": "2024-07-15T16:53:32.864Z"
   },
   {
    "duration": 17,
    "start_time": "2024-07-15T16:53:36.548Z"
   },
   {
    "duration": 4,
    "start_time": "2024-07-15T16:55:09.759Z"
   },
   {
    "duration": 23,
    "start_time": "2024-07-15T16:55:12.638Z"
   },
   {
    "duration": 26,
    "start_time": "2024-07-15T16:55:36.222Z"
   },
   {
    "duration": 4,
    "start_time": "2024-07-15T17:03:47.981Z"
   },
   {
    "duration": 11,
    "start_time": "2024-07-15T17:03:49.656Z"
   },
   {
    "duration": 9,
    "start_time": "2024-07-15T17:04:40.164Z"
   },
   {
    "duration": 17,
    "start_time": "2024-07-15T17:05:01.543Z"
   },
   {
    "duration": 17,
    "start_time": "2024-07-15T17:05:16.089Z"
   },
   {
    "duration": 28,
    "start_time": "2024-07-15T17:06:38.004Z"
   },
   {
    "duration": 32,
    "start_time": "2024-07-15T17:58:11.900Z"
   },
   {
    "duration": 7,
    "start_time": "2024-07-15T18:07:32.855Z"
   },
   {
    "duration": 4,
    "start_time": "2024-07-15T18:12:04.394Z"
   },
   {
    "duration": 504,
    "start_time": "2024-07-15T18:24:09.041Z"
   },
   {
    "duration": 526,
    "start_time": "2024-07-15T18:24:34.716Z"
   },
   {
    "duration": 552,
    "start_time": "2024-07-15T18:25:59.935Z"
   },
   {
    "duration": 601,
    "start_time": "2024-07-15T18:26:28.325Z"
   },
   {
    "duration": 8,
    "start_time": "2024-07-15T18:27:33.068Z"
   },
   {
    "duration": 8,
    "start_time": "2024-07-15T18:27:40.224Z"
   },
   {
    "duration": 11,
    "start_time": "2024-07-15T18:27:50.700Z"
   },
   {
    "duration": 7,
    "start_time": "2024-07-15T18:28:08.286Z"
   },
   {
    "duration": 22,
    "start_time": "2024-07-15T18:32:18.703Z"
   },
   {
    "duration": 11,
    "start_time": "2024-07-15T18:33:38.225Z"
   },
   {
    "duration": 23,
    "start_time": "2024-07-15T18:34:44.325Z"
   },
   {
    "duration": 479,
    "start_time": "2024-07-15T18:35:05.301Z"
   },
   {
    "duration": 23,
    "start_time": "2024-07-15T18:35:05.782Z"
   },
   {
    "duration": 17,
    "start_time": "2024-07-15T18:35:05.807Z"
   },
   {
    "duration": 11,
    "start_time": "2024-07-15T18:35:05.827Z"
   },
   {
    "duration": 61,
    "start_time": "2024-07-15T18:35:05.839Z"
   },
   {
    "duration": 5,
    "start_time": "2024-07-15T18:35:05.901Z"
   },
   {
    "duration": 13,
    "start_time": "2024-07-15T18:35:05.908Z"
   },
   {
    "duration": 6,
    "start_time": "2024-07-15T18:35:05.922Z"
   },
   {
    "duration": 30,
    "start_time": "2024-07-15T18:35:05.929Z"
   },
   {
    "duration": 8,
    "start_time": "2024-07-15T18:35:05.966Z"
   },
   {
    "duration": 48,
    "start_time": "2024-07-15T18:35:05.976Z"
   },
   {
    "duration": 11,
    "start_time": "2024-07-15T18:35:06.026Z"
   },
   {
    "duration": 6,
    "start_time": "2024-07-15T18:35:06.038Z"
   },
   {
    "duration": 33,
    "start_time": "2024-07-15T18:35:06.046Z"
   },
   {
    "duration": 27,
    "start_time": "2024-07-15T18:35:06.080Z"
   },
   {
    "duration": 18,
    "start_time": "2024-07-15T18:35:06.108Z"
   },
   {
    "duration": 4,
    "start_time": "2024-07-15T18:35:06.127Z"
   },
   {
    "duration": 12,
    "start_time": "2024-07-15T18:35:06.132Z"
   },
   {
    "duration": 6,
    "start_time": "2024-07-15T18:35:06.164Z"
   },
   {
    "duration": 9,
    "start_time": "2024-07-15T18:35:06.172Z"
   },
   {
    "duration": 10,
    "start_time": "2024-07-15T18:35:06.182Z"
   },
   {
    "duration": 12,
    "start_time": "2024-07-15T18:35:06.193Z"
   },
   {
    "duration": 5,
    "start_time": "2024-07-15T18:35:06.207Z"
   },
   {
    "duration": 27,
    "start_time": "2024-07-15T18:35:06.214Z"
   },
   {
    "duration": 48,
    "start_time": "2024-07-15T18:35:06.243Z"
   },
   {
    "duration": 12,
    "start_time": "2024-07-15T18:35:06.293Z"
   },
   {
    "duration": 18,
    "start_time": "2024-07-15T18:35:06.307Z"
   },
   {
    "duration": 6,
    "start_time": "2024-07-15T18:35:06.328Z"
   },
   {
    "duration": 11,
    "start_time": "2024-07-15T18:36:02.397Z"
   },
   {
    "duration": 9,
    "start_time": "2024-07-15T18:36:41.191Z"
   },
   {
    "duration": 4,
    "start_time": "2024-07-15T18:43:00.522Z"
   },
   {
    "duration": 8,
    "start_time": "2024-07-15T18:43:07.024Z"
   },
   {
    "duration": 7,
    "start_time": "2024-07-15T18:43:51.610Z"
   },
   {
    "duration": 18,
    "start_time": "2024-07-15T18:45:17.799Z"
   },
   {
    "duration": 366,
    "start_time": "2024-07-15T18:46:03.045Z"
   },
   {
    "duration": 27,
    "start_time": "2024-07-15T18:48:57.069Z"
   },
   {
    "duration": 9,
    "start_time": "2024-07-15T18:49:21.754Z"
   },
   {
    "duration": 9,
    "start_time": "2024-07-15T18:49:34.206Z"
   },
   {
    "duration": 9,
    "start_time": "2024-07-15T18:50:09.374Z"
   },
   {
    "duration": 12,
    "start_time": "2024-07-15T18:50:44.267Z"
   },
   {
    "duration": 4,
    "start_time": "2024-07-15T19:01:24.386Z"
   },
   {
    "duration": 9,
    "start_time": "2024-07-15T19:01:36.382Z"
   },
   {
    "duration": 9,
    "start_time": "2024-07-15T19:02:16.755Z"
   },
   {
    "duration": 57,
    "start_time": "2024-07-15T19:02:38.420Z"
   },
   {
    "duration": 9,
    "start_time": "2024-07-15T19:02:47.458Z"
   },
   {
    "duration": 8,
    "start_time": "2024-07-15T19:03:06.092Z"
   },
   {
    "duration": 12,
    "start_time": "2024-07-15T19:03:21.081Z"
   },
   {
    "duration": 9,
    "start_time": "2024-07-15T19:03:36.821Z"
   },
   {
    "duration": 28,
    "start_time": "2024-07-15T19:07:51.836Z"
   },
   {
    "duration": 14,
    "start_time": "2024-07-15T19:08:38.881Z"
   },
   {
    "duration": 31,
    "start_time": "2024-07-15T19:08:57.938Z"
   },
   {
    "duration": 5,
    "start_time": "2024-07-15T19:23:07.493Z"
   },
   {
    "duration": 3,
    "start_time": "2024-07-15T19:24:26.587Z"
   },
   {
    "duration": 4,
    "start_time": "2024-07-15T19:25:23.551Z"
   },
   {
    "duration": 5,
    "start_time": "2024-07-15T19:25:46.655Z"
   },
   {
    "duration": 467,
    "start_time": "2024-07-15T19:33:21.804Z"
   },
   {
    "duration": 22,
    "start_time": "2024-07-15T19:33:22.273Z"
   },
   {
    "duration": 25,
    "start_time": "2024-07-15T19:33:22.296Z"
   },
   {
    "duration": 13,
    "start_time": "2024-07-15T19:33:22.323Z"
   },
   {
    "duration": 57,
    "start_time": "2024-07-15T19:33:22.337Z"
   },
   {
    "duration": 4,
    "start_time": "2024-07-15T19:33:22.396Z"
   },
   {
    "duration": 11,
    "start_time": "2024-07-15T19:33:22.402Z"
   },
   {
    "duration": 5,
    "start_time": "2024-07-15T19:33:22.415Z"
   },
   {
    "duration": 7,
    "start_time": "2024-07-15T19:33:22.421Z"
   },
   {
    "duration": 4,
    "start_time": "2024-07-15T19:33:22.431Z"
   },
   {
    "duration": 62,
    "start_time": "2024-07-15T19:33:22.437Z"
   },
   {
    "duration": 11,
    "start_time": "2024-07-15T19:33:22.501Z"
   },
   {
    "duration": 6,
    "start_time": "2024-07-15T19:33:22.513Z"
   },
   {
    "duration": 14,
    "start_time": "2024-07-15T19:33:22.521Z"
   },
   {
    "duration": 62,
    "start_time": "2024-07-15T19:33:22.537Z"
   },
   {
    "duration": 18,
    "start_time": "2024-07-15T19:33:22.601Z"
   },
   {
    "duration": 4,
    "start_time": "2024-07-15T19:33:22.620Z"
   },
   {
    "duration": 13,
    "start_time": "2024-07-15T19:33:22.625Z"
   },
   {
    "duration": 12,
    "start_time": "2024-07-15T19:33:22.640Z"
   },
   {
    "duration": 8,
    "start_time": "2024-07-15T19:33:22.666Z"
   },
   {
    "duration": 11,
    "start_time": "2024-07-15T19:33:22.676Z"
   },
   {
    "duration": 14,
    "start_time": "2024-07-15T19:33:22.688Z"
   },
   {
    "duration": 5,
    "start_time": "2024-07-15T19:33:22.704Z"
   },
   {
    "duration": 31,
    "start_time": "2024-07-15T19:33:22.710Z"
   },
   {
    "duration": 49,
    "start_time": "2024-07-15T19:33:22.743Z"
   },
   {
    "duration": 8,
    "start_time": "2024-07-15T19:33:22.794Z"
   },
   {
    "duration": 18,
    "start_time": "2024-07-15T19:33:22.803Z"
   },
   {
    "duration": 3,
    "start_time": "2024-07-15T19:33:22.824Z"
   },
   {
    "duration": 52,
    "start_time": "2024-07-15T19:52:27.115Z"
   },
   {
    "duration": 484,
    "start_time": "2024-07-15T19:52:37.317Z"
   },
   {
    "duration": 24,
    "start_time": "2024-07-15T19:52:37.803Z"
   },
   {
    "duration": 19,
    "start_time": "2024-07-15T19:52:37.829Z"
   },
   {
    "duration": 15,
    "start_time": "2024-07-15T19:52:37.867Z"
   },
   {
    "duration": 39,
    "start_time": "2024-07-15T19:52:37.884Z"
   },
   {
    "duration": 3,
    "start_time": "2024-07-15T19:52:37.925Z"
   },
   {
    "duration": 19,
    "start_time": "2024-07-15T19:52:37.930Z"
   },
   {
    "duration": 38,
    "start_time": "2024-07-15T19:52:37.950Z"
   },
   {
    "duration": 8,
    "start_time": "2024-07-15T19:52:37.995Z"
   },
   {
    "duration": 5,
    "start_time": "2024-07-15T19:52:38.008Z"
   },
   {
    "duration": 51,
    "start_time": "2024-07-15T19:52:38.015Z"
   },
   {
    "duration": 10,
    "start_time": "2024-07-15T19:52:38.068Z"
   },
   {
    "duration": 25,
    "start_time": "2024-07-15T19:52:38.079Z"
   },
   {
    "duration": 14,
    "start_time": "2024-07-15T19:52:38.105Z"
   },
   {
    "duration": 19,
    "start_time": "2024-07-15T19:52:38.121Z"
   },
   {
    "duration": 23,
    "start_time": "2024-07-15T19:52:38.142Z"
   },
   {
    "duration": 4,
    "start_time": "2024-07-15T19:52:38.166Z"
   },
   {
    "duration": 16,
    "start_time": "2024-07-15T19:52:38.171Z"
   },
   {
    "duration": 9,
    "start_time": "2024-07-15T19:52:38.188Z"
   },
   {
    "duration": 4,
    "start_time": "2024-07-15T19:52:38.198Z"
   },
   {
    "duration": 12,
    "start_time": "2024-07-15T19:52:38.204Z"
   },
   {
    "duration": 14,
    "start_time": "2024-07-15T19:52:38.217Z"
   },
   {
    "duration": 5,
    "start_time": "2024-07-15T19:52:38.232Z"
   },
   {
    "duration": 41,
    "start_time": "2024-07-15T19:52:38.238Z"
   },
   {
    "duration": 30,
    "start_time": "2024-07-15T19:52:38.281Z"
   },
   {
    "duration": 8,
    "start_time": "2024-07-15T19:52:38.312Z"
   },
   {
    "duration": 5,
    "start_time": "2024-07-15T19:52:38.322Z"
   },
   {
    "duration": 4,
    "start_time": "2024-07-15T19:52:38.330Z"
   },
   {
    "duration": 3,
    "start_time": "2024-07-15T19:52:38.365Z"
   },
   {
    "duration": 11,
    "start_time": "2024-07-15T19:54:14.017Z"
   },
   {
    "duration": 7,
    "start_time": "2024-07-15T19:54:31.371Z"
   },
   {
    "duration": 4,
    "start_time": "2024-07-15T19:54:51.005Z"
   },
   {
    "duration": 5,
    "start_time": "2024-07-15T19:54:59.523Z"
   },
   {
    "duration": 6,
    "start_time": "2024-07-15T19:55:03.822Z"
   },
   {
    "duration": 5,
    "start_time": "2024-07-15T19:55:12.754Z"
   },
   {
    "duration": 5,
    "start_time": "2024-07-15T19:55:17.199Z"
   },
   {
    "duration": 5,
    "start_time": "2024-07-15T19:55:25.608Z"
   },
   {
    "duration": 5,
    "start_time": "2024-07-15T19:55:47.815Z"
   },
   {
    "duration": 5,
    "start_time": "2024-07-15T19:55:52.770Z"
   },
   {
    "duration": 6,
    "start_time": "2024-07-15T19:56:08.313Z"
   },
   {
    "duration": 5,
    "start_time": "2024-07-15T19:56:26.851Z"
   },
   {
    "duration": 5,
    "start_time": "2024-07-15T19:56:31.526Z"
   },
   {
    "duration": 5,
    "start_time": "2024-07-15T19:56:36.977Z"
   },
   {
    "duration": 5,
    "start_time": "2024-07-15T19:56:41.740Z"
   },
   {
    "duration": 71,
    "start_time": "2024-07-15T20:03:00.386Z"
   },
   {
    "duration": 31,
    "start_time": "2024-07-15T20:06:16.617Z"
   },
   {
    "duration": 4,
    "start_time": "2024-07-15T20:07:06.056Z"
   },
   {
    "duration": 5,
    "start_time": "2024-07-15T20:07:37.615Z"
   },
   {
    "duration": 72,
    "start_time": "2024-07-15T20:09:43.183Z"
   },
   {
    "duration": 31,
    "start_time": "2024-07-15T20:09:52.630Z"
   },
   {
    "duration": 10,
    "start_time": "2024-07-15T20:21:01.616Z"
   },
   {
    "duration": 7,
    "start_time": "2024-07-15T20:21:26.576Z"
   },
   {
    "duration": 10,
    "start_time": "2024-07-15T20:22:33.989Z"
   },
   {
    "duration": 7,
    "start_time": "2024-07-15T20:23:12.179Z"
   },
   {
    "duration": 7,
    "start_time": "2024-07-15T20:23:42.696Z"
   },
   {
    "duration": 10,
    "start_time": "2024-07-15T20:31:51.270Z"
   },
   {
    "duration": 26,
    "start_time": "2024-07-15T20:32:00.516Z"
   },
   {
    "duration": 5,
    "start_time": "2024-07-15T20:39:18.746Z"
   },
   {
    "duration": 26,
    "start_time": "2024-07-15T20:39:51.395Z"
   },
   {
    "duration": 25,
    "start_time": "2024-07-15T20:40:07.532Z"
   },
   {
    "duration": 12,
    "start_time": "2024-07-15T20:41:22.188Z"
   },
   {
    "duration": 19,
    "start_time": "2024-07-15T20:41:52.813Z"
   },
   {
    "duration": 7,
    "start_time": "2024-07-15T20:56:15.550Z"
   },
   {
    "duration": 8,
    "start_time": "2024-07-15T20:56:41.008Z"
   },
   {
    "duration": 8,
    "start_time": "2024-07-15T20:57:57.828Z"
   },
   {
    "duration": 11,
    "start_time": "2024-07-15T20:58:12.056Z"
   },
   {
    "duration": 7,
    "start_time": "2024-07-15T20:58:26.137Z"
   },
   {
    "duration": 8,
    "start_time": "2024-07-15T20:59:13.073Z"
   },
   {
    "duration": 64,
    "start_time": "2024-07-15T20:59:29.412Z"
   },
   {
    "duration": 8,
    "start_time": "2024-07-15T20:59:34.196Z"
   },
   {
    "duration": 20,
    "start_time": "2024-07-15T21:04:04.983Z"
   },
   {
    "duration": 32,
    "start_time": "2024-07-15T21:04:32.032Z"
   },
   {
    "duration": 21,
    "start_time": "2024-07-15T21:05:04.082Z"
   },
   {
    "duration": 19,
    "start_time": "2024-07-15T21:20:35.106Z"
   },
   {
    "duration": 468,
    "start_time": "2024-07-15T21:44:37.904Z"
   },
   {
    "duration": 22,
    "start_time": "2024-07-15T21:44:38.374Z"
   },
   {
    "duration": 16,
    "start_time": "2024-07-15T21:44:38.397Z"
   },
   {
    "duration": 10,
    "start_time": "2024-07-15T21:44:38.414Z"
   },
   {
    "duration": 53,
    "start_time": "2024-07-15T21:44:38.426Z"
   },
   {
    "duration": 4,
    "start_time": "2024-07-15T21:44:38.480Z"
   },
   {
    "duration": 9,
    "start_time": "2024-07-15T21:44:38.485Z"
   },
   {
    "duration": 6,
    "start_time": "2024-07-15T21:44:38.496Z"
   },
   {
    "duration": 6,
    "start_time": "2024-07-15T21:44:38.503Z"
   },
   {
    "duration": 4,
    "start_time": "2024-07-15T21:44:38.513Z"
   },
   {
    "duration": 71,
    "start_time": "2024-07-15T21:44:38.518Z"
   },
   {
    "duration": 10,
    "start_time": "2024-07-15T21:44:38.591Z"
   },
   {
    "duration": 21,
    "start_time": "2024-07-15T21:44:38.603Z"
   },
   {
    "duration": 12,
    "start_time": "2024-07-15T21:44:38.626Z"
   },
   {
    "duration": 23,
    "start_time": "2024-07-15T21:44:38.639Z"
   },
   {
    "duration": 17,
    "start_time": "2024-07-15T21:44:38.665Z"
   },
   {
    "duration": 4,
    "start_time": "2024-07-15T21:44:38.683Z"
   },
   {
    "duration": 11,
    "start_time": "2024-07-15T21:44:38.689Z"
   },
   {
    "duration": 6,
    "start_time": "2024-07-15T21:44:38.702Z"
   },
   {
    "duration": 4,
    "start_time": "2024-07-15T21:44:38.710Z"
   },
   {
    "duration": 13,
    "start_time": "2024-07-15T21:44:38.715Z"
   },
   {
    "duration": 39,
    "start_time": "2024-07-15T21:44:38.730Z"
   },
   {
    "duration": 4,
    "start_time": "2024-07-15T21:44:38.771Z"
   },
   {
    "duration": 28,
    "start_time": "2024-07-15T21:44:38.776Z"
   },
   {
    "duration": 30,
    "start_time": "2024-07-15T21:44:38.805Z"
   },
   {
    "duration": 28,
    "start_time": "2024-07-15T21:44:38.837Z"
   },
   {
    "duration": 30,
    "start_time": "2024-07-15T21:44:38.867Z"
   },
   {
    "duration": 6,
    "start_time": "2024-07-15T21:44:38.902Z"
   },
   {
    "duration": 28,
    "start_time": "2024-07-15T21:44:38.910Z"
   },
   {
    "duration": 35,
    "start_time": "2024-07-15T21:44:38.940Z"
   },
   {
    "duration": 19,
    "start_time": "2024-07-15T21:44:38.977Z"
   },
   {
    "duration": 463,
    "start_time": "2024-07-16T16:33:25.319Z"
   },
   {
    "duration": 24,
    "start_time": "2024-07-16T16:33:25.784Z"
   },
   {
    "duration": 19,
    "start_time": "2024-07-16T16:33:25.813Z"
   },
   {
    "duration": 35,
    "start_time": "2024-07-16T16:33:25.835Z"
   },
   {
    "duration": 40,
    "start_time": "2024-07-16T16:33:25.872Z"
   },
   {
    "duration": 4,
    "start_time": "2024-07-16T16:33:25.913Z"
   },
   {
    "duration": 20,
    "start_time": "2024-07-16T16:33:25.918Z"
   },
   {
    "duration": 26,
    "start_time": "2024-07-16T16:33:25.940Z"
   },
   {
    "duration": 9,
    "start_time": "2024-07-16T16:33:25.968Z"
   },
   {
    "duration": 4,
    "start_time": "2024-07-16T16:33:25.979Z"
   },
   {
    "duration": 42,
    "start_time": "2024-07-16T16:33:25.985Z"
   },
   {
    "duration": 43,
    "start_time": "2024-07-16T16:33:26.029Z"
   },
   {
    "duration": 4,
    "start_time": "2024-07-16T16:33:26.076Z"
   },
   {
    "duration": 57,
    "start_time": "2024-07-16T16:33:26.082Z"
   },
   {
    "duration": 91,
    "start_time": "2024-07-16T16:33:26.141Z"
   },
   {
    "duration": 27,
    "start_time": "2024-07-16T16:33:26.234Z"
   },
   {
    "duration": 4,
    "start_time": "2024-07-16T16:33:26.263Z"
   },
   {
    "duration": 16,
    "start_time": "2024-07-16T16:33:26.271Z"
   },
   {
    "duration": 7,
    "start_time": "2024-07-16T16:33:26.288Z"
   },
   {
    "duration": 4,
    "start_time": "2024-07-16T16:33:26.297Z"
   },
   {
    "duration": 15,
    "start_time": "2024-07-16T16:33:26.303Z"
   },
   {
    "duration": 12,
    "start_time": "2024-07-16T16:33:26.320Z"
   },
   {
    "duration": 32,
    "start_time": "2024-07-16T16:33:26.333Z"
   },
   {
    "duration": 26,
    "start_time": "2024-07-16T16:33:26.367Z"
   },
   {
    "duration": 29,
    "start_time": "2024-07-16T16:33:26.394Z"
   },
   {
    "duration": 9,
    "start_time": "2024-07-16T16:33:26.424Z"
   },
   {
    "duration": 53,
    "start_time": "2024-07-16T16:33:26.435Z"
   },
   {
    "duration": 6,
    "start_time": "2024-07-16T16:33:26.490Z"
   },
   {
    "duration": 27,
    "start_time": "2024-07-16T16:33:26.498Z"
   },
   {
    "duration": 40,
    "start_time": "2024-07-16T16:33:26.527Z"
   },
   {
    "duration": 19,
    "start_time": "2024-07-16T16:33:26.569Z"
   },
   {
    "duration": 810,
    "start_time": "2024-07-19T06:52:32.486Z"
   },
   {
    "duration": 23,
    "start_time": "2024-07-19T06:52:33.298Z"
   },
   {
    "duration": 16,
    "start_time": "2024-07-19T06:52:33.323Z"
   },
   {
    "duration": 12,
    "start_time": "2024-07-19T06:52:33.341Z"
   },
   {
    "duration": 65,
    "start_time": "2024-07-19T06:52:33.354Z"
   },
   {
    "duration": 4,
    "start_time": "2024-07-19T06:52:33.421Z"
   },
   {
    "duration": 31,
    "start_time": "2024-07-19T06:52:33.426Z"
   },
   {
    "duration": 20,
    "start_time": "2024-07-19T06:52:33.459Z"
   },
   {
    "duration": 13,
    "start_time": "2024-07-19T06:52:33.481Z"
   },
   {
    "duration": 6,
    "start_time": "2024-07-19T06:52:33.497Z"
   },
   {
    "duration": 40,
    "start_time": "2024-07-19T06:52:33.504Z"
   },
   {
    "duration": 12,
    "start_time": "2024-07-19T06:52:33.546Z"
   },
   {
    "duration": 8,
    "start_time": "2024-07-19T06:52:33.560Z"
   },
   {
    "duration": 36,
    "start_time": "2024-07-19T06:52:33.569Z"
   },
   {
    "duration": 32,
    "start_time": "2024-07-19T06:52:33.607Z"
   },
   {
    "duration": 25,
    "start_time": "2024-07-19T06:52:33.641Z"
   },
   {
    "duration": 4,
    "start_time": "2024-07-19T06:52:33.668Z"
   },
   {
    "duration": 33,
    "start_time": "2024-07-19T06:52:33.674Z"
   },
   {
    "duration": 7,
    "start_time": "2024-07-19T06:52:33.711Z"
   },
   {
    "duration": 4,
    "start_time": "2024-07-19T06:52:33.720Z"
   },
   {
    "duration": 16,
    "start_time": "2024-07-19T06:52:33.725Z"
   },
   {
    "duration": 13,
    "start_time": "2024-07-19T06:52:33.743Z"
   },
   {
    "duration": 6,
    "start_time": "2024-07-19T06:52:33.758Z"
   },
   {
    "duration": 48,
    "start_time": "2024-07-19T06:52:33.766Z"
   },
   {
    "duration": 33,
    "start_time": "2024-07-19T06:52:33.816Z"
   },
   {
    "duration": 67,
    "start_time": "2024-07-19T06:52:33.850Z"
   },
   {
    "duration": 29,
    "start_time": "2024-07-19T06:52:33.919Z"
   },
   {
    "duration": 8,
    "start_time": "2024-07-19T06:52:33.951Z"
   },
   {
    "duration": 28,
    "start_time": "2024-07-19T06:52:33.960Z"
   },
   {
    "duration": 12,
    "start_time": "2024-07-19T06:52:34.008Z"
   },
   {
    "duration": 24,
    "start_time": "2024-07-19T06:52:34.021Z"
   },
   {
    "duration": 70,
    "start_time": "2024-07-19T06:53:19.519Z"
   },
   {
    "duration": 6,
    "start_time": "2024-07-19T06:53:23.939Z"
   },
   {
    "duration": 31,
    "start_time": "2024-07-19T06:53:34.335Z"
   },
   {
    "duration": 6,
    "start_time": "2024-07-19T06:53:40.914Z"
   },
   {
    "duration": 7,
    "start_time": "2024-07-19T06:53:44.607Z"
   },
   {
    "duration": 10,
    "start_time": "2024-07-19T06:56:31.187Z"
   },
   {
    "duration": 642,
    "start_time": "2024-07-19T06:58:12.535Z"
   },
   {
    "duration": 3,
    "start_time": "2024-07-19T07:01:31.868Z"
   },
   {
    "duration": 5,
    "start_time": "2024-07-19T07:01:50.679Z"
   },
   {
    "duration": 30,
    "start_time": "2024-07-19T07:02:13.089Z"
   },
   {
    "duration": 5,
    "start_time": "2024-07-19T07:02:14.982Z"
   },
   {
    "duration": 67,
    "start_time": "2024-07-19T07:03:06.776Z"
   },
   {
    "duration": 862,
    "start_time": "2024-07-19T07:03:16.182Z"
   },
   {
    "duration": 1061,
    "start_time": "2024-07-19T07:03:17.337Z"
   },
   {
    "duration": 641,
    "start_time": "2024-07-19T07:03:43.711Z"
   },
   {
    "duration": 658,
    "start_time": "2024-07-19T07:04:44.628Z"
   },
   {
    "duration": 894,
    "start_time": "2024-07-19T07:06:35.315Z"
   },
   {
    "duration": 688,
    "start_time": "2024-07-19T07:06:48.907Z"
   },
   {
    "duration": 578,
    "start_time": "2024-07-19T08:32:34.313Z"
   },
   {
    "duration": 25,
    "start_time": "2024-07-19T08:32:34.894Z"
   },
   {
    "duration": 15,
    "start_time": "2024-07-19T08:32:34.920Z"
   },
   {
    "duration": 15,
    "start_time": "2024-07-19T08:32:34.937Z"
   },
   {
    "duration": 54,
    "start_time": "2024-07-19T08:32:34.954Z"
   },
   {
    "duration": 58,
    "start_time": "2024-07-19T08:32:35.010Z"
   },
   {
    "duration": 11,
    "start_time": "2024-07-19T08:32:35.069Z"
   },
   {
    "duration": 20,
    "start_time": "2024-07-19T08:32:35.083Z"
   },
   {
    "duration": 10,
    "start_time": "2024-07-19T08:32:35.104Z"
   },
   {
    "duration": 5,
    "start_time": "2024-07-19T08:32:35.116Z"
   },
   {
    "duration": 53,
    "start_time": "2024-07-19T08:32:35.123Z"
   },
   {
    "duration": 23,
    "start_time": "2024-07-19T08:32:35.178Z"
   },
   {
    "duration": 4,
    "start_time": "2024-07-19T08:32:35.203Z"
   },
   {
    "duration": 22,
    "start_time": "2024-07-19T08:32:35.209Z"
   },
   {
    "duration": 51,
    "start_time": "2024-07-19T08:32:35.233Z"
   },
   {
    "duration": 25,
    "start_time": "2024-07-19T08:32:35.286Z"
   },
   {
    "duration": 4,
    "start_time": "2024-07-19T08:32:35.312Z"
   },
   {
    "duration": 28,
    "start_time": "2024-07-19T08:32:35.317Z"
   },
   {
    "duration": 11,
    "start_time": "2024-07-19T08:32:35.348Z"
   },
   {
    "duration": 8,
    "start_time": "2024-07-19T08:32:35.361Z"
   },
   {
    "duration": 13,
    "start_time": "2024-07-19T08:32:35.370Z"
   },
   {
    "duration": 13,
    "start_time": "2024-07-19T08:32:35.391Z"
   },
   {
    "duration": 4,
    "start_time": "2024-07-19T08:32:35.406Z"
   },
   {
    "duration": 18,
    "start_time": "2024-07-19T08:32:35.412Z"
   },
   {
    "duration": 30,
    "start_time": "2024-07-19T08:32:35.431Z"
   },
   {
    "duration": 13,
    "start_time": "2024-07-19T08:32:35.483Z"
   },
   {
    "duration": 34,
    "start_time": "2024-07-19T08:32:35.498Z"
   },
   {
    "duration": 805,
    "start_time": "2024-07-19T08:32:35.535Z"
   },
   {
    "duration": 0,
    "start_time": "2024-07-19T08:32:36.342Z"
   },
   {
    "duration": 0,
    "start_time": "2024-07-19T08:32:36.343Z"
   },
   {
    "duration": 0,
    "start_time": "2024-07-19T08:32:36.344Z"
   },
   {
    "duration": 12,
    "start_time": "2024-07-19T08:55:12.777Z"
   },
   {
    "duration": 21,
    "start_time": "2024-07-19T09:07:31.322Z"
   },
   {
    "duration": 21,
    "start_time": "2024-07-19T09:13:02.754Z"
   },
   {
    "duration": 18,
    "start_time": "2024-07-19T09:13:32.210Z"
   },
   {
    "duration": 14,
    "start_time": "2024-07-19T09:13:37.538Z"
   },
   {
    "duration": 20,
    "start_time": "2024-07-19T09:13:38.578Z"
   },
   {
    "duration": 14,
    "start_time": "2024-07-19T09:13:47.366Z"
   },
   {
    "duration": 23,
    "start_time": "2024-07-19T09:13:47.988Z"
   },
   {
    "duration": 24,
    "start_time": "2024-07-19T09:13:54.392Z"
   },
   {
    "duration": 20,
    "start_time": "2024-07-19T09:13:57.426Z"
   },
   {
    "duration": 547,
    "start_time": "2024-07-19T09:14:09.559Z"
   },
   {
    "duration": 23,
    "start_time": "2024-07-19T09:14:10.109Z"
   },
   {
    "duration": 46,
    "start_time": "2024-07-19T09:14:10.134Z"
   },
   {
    "duration": 53,
    "start_time": "2024-07-19T09:14:10.182Z"
   },
   {
    "duration": 67,
    "start_time": "2024-07-19T09:14:10.237Z"
   },
   {
    "duration": 11,
    "start_time": "2024-07-19T09:14:10.306Z"
   },
   {
    "duration": 84,
    "start_time": "2024-07-19T09:14:10.318Z"
   },
   {
    "duration": 15,
    "start_time": "2024-07-19T09:14:10.404Z"
   },
   {
    "duration": 49,
    "start_time": "2024-07-19T09:14:10.420Z"
   },
   {
    "duration": 61,
    "start_time": "2024-07-19T09:14:10.473Z"
   },
   {
    "duration": 108,
    "start_time": "2024-07-19T09:14:10.536Z"
   },
   {
    "duration": 11,
    "start_time": "2024-07-19T09:14:10.646Z"
   },
   {
    "duration": 52,
    "start_time": "2024-07-19T09:14:10.658Z"
   },
   {
    "duration": 32,
    "start_time": "2024-07-19T09:14:10.711Z"
   },
   {
    "duration": 65,
    "start_time": "2024-07-19T09:14:10.745Z"
   },
   {
    "duration": 18,
    "start_time": "2024-07-19T09:14:10.811Z"
   },
   {
    "duration": 86,
    "start_time": "2024-07-19T09:14:10.831Z"
   },
   {
    "duration": 35,
    "start_time": "2024-07-19T09:14:10.920Z"
   },
   {
    "duration": 40,
    "start_time": "2024-07-19T09:14:10.958Z"
   },
   {
    "duration": 23,
    "start_time": "2024-07-19T09:14:11.001Z"
   },
   {
    "duration": 46,
    "start_time": "2024-07-19T09:14:11.026Z"
   },
   {
    "duration": 38,
    "start_time": "2024-07-19T09:14:11.074Z"
   },
   {
    "duration": 105,
    "start_time": "2024-07-19T09:14:11.113Z"
   },
   {
    "duration": 95,
    "start_time": "2024-07-19T09:14:11.220Z"
   },
   {
    "duration": 45,
    "start_time": "2024-07-19T09:14:11.317Z"
   },
   {
    "duration": 12,
    "start_time": "2024-07-19T09:14:11.364Z"
   },
   {
    "duration": 86,
    "start_time": "2024-07-19T09:14:11.378Z"
   },
   {
    "duration": 29,
    "start_time": "2024-07-19T09:14:11.467Z"
   },
   {
    "duration": 68,
    "start_time": "2024-07-19T09:14:11.497Z"
   },
   {
    "duration": 38,
    "start_time": "2024-07-19T09:14:11.566Z"
   },
   {
    "duration": 92,
    "start_time": "2024-07-19T09:14:11.605Z"
   },
   {
    "duration": 92,
    "start_time": "2024-07-19T09:14:42.737Z"
   },
   {
    "duration": 22,
    "start_time": "2024-07-19T09:15:40.573Z"
   },
   {
    "duration": 17,
    "start_time": "2024-07-19T09:15:41.371Z"
   },
   {
    "duration": 13,
    "start_time": "2024-07-19T09:15:41.763Z"
   },
   {
    "duration": 13,
    "start_time": "2024-07-19T09:15:41.995Z"
   },
   {
    "duration": 13,
    "start_time": "2024-07-19T09:15:42.197Z"
   },
   {
    "duration": 15,
    "start_time": "2024-07-19T09:15:42.406Z"
   },
   {
    "duration": 24,
    "start_time": "2024-07-19T09:15:42.583Z"
   },
   {
    "duration": 26,
    "start_time": "2024-07-19T09:15:42.777Z"
   },
   {
    "duration": 14,
    "start_time": "2024-07-19T09:15:42.972Z"
   },
   {
    "duration": 13,
    "start_time": "2024-07-19T09:15:43.228Z"
   },
   {
    "duration": 526,
    "start_time": "2024-07-19T09:16:14.028Z"
   },
   {
    "duration": 46,
    "start_time": "2024-07-19T09:16:14.556Z"
   },
   {
    "duration": 17,
    "start_time": "2024-07-19T09:16:14.604Z"
   },
   {
    "duration": 12,
    "start_time": "2024-07-19T09:16:14.624Z"
   },
   {
    "duration": 61,
    "start_time": "2024-07-19T09:16:14.638Z"
   },
   {
    "duration": 6,
    "start_time": "2024-07-19T09:16:14.704Z"
   },
   {
    "duration": 15,
    "start_time": "2024-07-19T09:16:14.712Z"
   },
   {
    "duration": 5,
    "start_time": "2024-07-19T09:16:14.729Z"
   },
   {
    "duration": 9,
    "start_time": "2024-07-19T09:16:14.736Z"
   },
   {
    "duration": 17,
    "start_time": "2024-07-19T09:16:14.750Z"
   },
   {
    "duration": 69,
    "start_time": "2024-07-19T09:16:14.769Z"
   },
   {
    "duration": 11,
    "start_time": "2024-07-19T09:16:14.839Z"
   },
   {
    "duration": 63,
    "start_time": "2024-07-19T09:16:14.851Z"
   },
   {
    "duration": 23,
    "start_time": "2024-07-19T09:16:14.915Z"
   },
   {
    "duration": 28,
    "start_time": "2024-07-19T09:16:14.939Z"
   },
   {
    "duration": 27,
    "start_time": "2024-07-19T09:16:14.969Z"
   },
   {
    "duration": 4,
    "start_time": "2024-07-19T09:16:14.998Z"
   },
   {
    "duration": 43,
    "start_time": "2024-07-19T09:16:15.004Z"
   },
   {
    "duration": 34,
    "start_time": "2024-07-19T09:16:15.049Z"
   },
   {
    "duration": 23,
    "start_time": "2024-07-19T09:16:15.085Z"
   },
   {
    "duration": 118,
    "start_time": "2024-07-19T09:16:15.109Z"
   },
   {
    "duration": 57,
    "start_time": "2024-07-19T09:16:15.229Z"
   },
   {
    "duration": 16,
    "start_time": "2024-07-19T09:16:15.288Z"
   },
   {
    "duration": 59,
    "start_time": "2024-07-19T09:16:15.305Z"
   },
   {
    "duration": 42,
    "start_time": "2024-07-19T09:16:15.365Z"
   },
   {
    "duration": 34,
    "start_time": "2024-07-19T09:16:15.409Z"
   },
   {
    "duration": 49,
    "start_time": "2024-07-19T09:16:15.445Z"
   },
   {
    "duration": 6,
    "start_time": "2024-07-19T09:16:15.498Z"
   },
   {
    "duration": 34,
    "start_time": "2024-07-19T09:16:15.506Z"
   },
   {
    "duration": 16,
    "start_time": "2024-07-19T09:16:15.542Z"
   },
   {
    "duration": 40,
    "start_time": "2024-07-19T09:16:15.559Z"
   },
   {
    "duration": 13,
    "start_time": "2024-07-19T09:16:56.128Z"
   },
   {
    "duration": 14,
    "start_time": "2024-07-19T09:17:10.337Z"
   },
   {
    "duration": 22,
    "start_time": "2024-07-19T09:18:14.446Z"
   },
   {
    "duration": 86,
    "start_time": "2024-07-19T09:24:14.332Z"
   },
   {
    "duration": 518,
    "start_time": "2024-07-19T09:24:33.808Z"
   },
   {
    "duration": 29,
    "start_time": "2024-07-19T09:24:37.469Z"
   },
   {
    "duration": 19,
    "start_time": "2024-07-19T09:24:41.564Z"
   },
   {
    "duration": 11,
    "start_time": "2024-07-19T09:24:48.520Z"
   },
   {
    "duration": 91,
    "start_time": "2024-07-19T09:24:58.232Z"
   },
   {
    "duration": 12,
    "start_time": "2024-07-19T09:25:11.548Z"
   },
   {
    "duration": 17,
    "start_time": "2024-07-19T09:26:22.682Z"
   },
   {
    "duration": 11,
    "start_time": "2024-07-19T09:31:49.234Z"
   },
   {
    "duration": 1067,
    "start_time": "2024-07-19T09:47:48.522Z"
   },
   {
    "duration": 78,
    "start_time": "2024-07-19T09:47:57.598Z"
   },
   {
    "duration": 59,
    "start_time": "2024-07-19T09:51:16.774Z"
   },
   {
    "duration": 11,
    "start_time": "2024-07-19T09:51:21.518Z"
   },
   {
    "duration": 9,
    "start_time": "2024-07-19T09:51:24.177Z"
   },
   {
    "duration": 11,
    "start_time": "2024-07-19T09:51:43.925Z"
   },
   {
    "duration": 5,
    "start_time": "2024-07-19T09:51:54.923Z"
   },
   {
    "duration": 80,
    "start_time": "2024-07-19T09:52:05.026Z"
   },
   {
    "duration": 76,
    "start_time": "2024-07-19T09:52:07.375Z"
   },
   {
    "duration": 68,
    "start_time": "2024-07-19T09:52:07.897Z"
   },
   {
    "duration": 58,
    "start_time": "2024-07-19T09:52:08.131Z"
   },
   {
    "duration": 55,
    "start_time": "2024-07-19T09:52:08.325Z"
   },
   {
    "duration": 76,
    "start_time": "2024-07-19T09:52:08.511Z"
   },
   {
    "duration": 56,
    "start_time": "2024-07-19T09:52:08.701Z"
   },
   {
    "duration": 55,
    "start_time": "2024-07-19T09:52:08.876Z"
   },
   {
    "duration": 56,
    "start_time": "2024-07-19T09:52:09.065Z"
   },
   {
    "duration": 56,
    "start_time": "2024-07-19T09:52:09.319Z"
   },
   {
    "duration": 95,
    "start_time": "2024-07-19T09:52:23.447Z"
   },
   {
    "duration": 77,
    "start_time": "2024-07-19T09:56:33.993Z"
   },
   {
    "duration": 1370,
    "start_time": "2024-07-19T09:56:55.678Z"
   },
   {
    "duration": 20,
    "start_time": "2024-07-19T09:57:00.463Z"
   },
   {
    "duration": 17,
    "start_time": "2024-07-19T09:57:04.197Z"
   },
   {
    "duration": 13,
    "start_time": "2024-07-19T09:57:07.151Z"
   },
   {
    "duration": 39,
    "start_time": "2024-07-19T09:57:08.807Z"
   },
   {
    "duration": 4,
    "start_time": "2024-07-19T09:57:10.861Z"
   },
   {
    "duration": 9,
    "start_time": "2024-07-19T09:57:13.069Z"
   },
   {
    "duration": 5,
    "start_time": "2024-07-19T09:57:15.264Z"
   },
   {
    "duration": 7,
    "start_time": "2024-07-19T09:57:16.564Z"
   },
   {
    "duration": 5,
    "start_time": "2024-07-19T09:57:17.820Z"
   },
   {
    "duration": 38,
    "start_time": "2024-07-19T09:57:22.054Z"
   },
   {
    "duration": 12,
    "start_time": "2024-07-19T09:57:23.738Z"
   },
   {
    "duration": 4,
    "start_time": "2024-07-19T09:57:27.277Z"
   },
   {
    "duration": 18,
    "start_time": "2024-07-19T09:57:29.677Z"
   },
   {
    "duration": 20,
    "start_time": "2024-07-19T09:57:32.037Z"
   },
   {
    "duration": 18,
    "start_time": "2024-07-19T09:57:34.536Z"
   },
   {
    "duration": 3,
    "start_time": "2024-07-19T09:57:37.220Z"
   },
   {
    "duration": 11,
    "start_time": "2024-07-19T09:57:40.654Z"
   },
   {
    "duration": 7,
    "start_time": "2024-07-19T09:57:42.724Z"
   },
   {
    "duration": 4,
    "start_time": "2024-07-19T09:57:44.819Z"
   },
   {
    "duration": 10,
    "start_time": "2024-07-19T09:57:47.647Z"
   },
   {
    "duration": 13,
    "start_time": "2024-07-19T09:57:54.489Z"
   },
   {
    "duration": 5,
    "start_time": "2024-07-19T09:57:56.271Z"
   },
   {
    "duration": 18,
    "start_time": "2024-07-19T09:57:58.600Z"
   },
   {
    "duration": 1116,
    "start_time": "2024-07-19T09:58:03.197Z"
   },
   {
    "duration": 136,
    "start_time": "2024-07-19T09:58:17.601Z"
   },
   {
    "duration": 158,
    "start_time": "2024-07-19T10:14:41.881Z"
   },
   {
    "duration": 59,
    "start_time": "2024-07-19T10:16:42.088Z"
   },
   {
    "duration": 160,
    "start_time": "2024-07-19T10:29:34.841Z"
   },
   {
    "duration": 5,
    "start_time": "2024-07-19T10:29:40.876Z"
   },
   {
    "duration": 68,
    "start_time": "2024-07-19T10:32:02.561Z"
   },
   {
    "duration": 59,
    "start_time": "2024-07-19T10:32:24.848Z"
   },
   {
    "duration": 80,
    "start_time": "2024-07-19T10:33:56.630Z"
   },
   {
    "duration": 178,
    "start_time": "2024-07-19T10:46:58.854Z"
   },
   {
    "duration": 173,
    "start_time": "2024-07-19T10:47:43.729Z"
   },
   {
    "duration": 167,
    "start_time": "2024-07-19T10:50:32.875Z"
   },
   {
    "duration": 178,
    "start_time": "2024-07-19T11:01:19.007Z"
   },
   {
    "duration": 179,
    "start_time": "2024-07-19T11:05:30.893Z"
   },
   {
    "duration": 178,
    "start_time": "2024-07-19T11:07:19.962Z"
   },
   {
    "duration": 255,
    "start_time": "2024-07-19T11:07:45.792Z"
   },
   {
    "duration": 183,
    "start_time": "2024-07-19T11:09:08.336Z"
   },
   {
    "duration": 212,
    "start_time": "2024-07-19T11:10:11.671Z"
   },
   {
    "duration": 35,
    "start_time": "2024-07-19T11:11:30.856Z"
   },
   {
    "duration": 80,
    "start_time": "2024-07-19T11:12:17.023Z"
   },
   {
    "duration": 1374,
    "start_time": "2024-07-19T11:12:29.469Z"
   },
   {
    "duration": 20,
    "start_time": "2024-07-19T11:12:33.429Z"
   },
   {
    "duration": 16,
    "start_time": "2024-07-19T11:12:35.443Z"
   },
   {
    "duration": 18,
    "start_time": "2024-07-19T11:12:38.344Z"
   },
   {
    "duration": 38,
    "start_time": "2024-07-19T11:12:39.957Z"
   },
   {
    "duration": 4,
    "start_time": "2024-07-19T11:12:41.553Z"
   },
   {
    "duration": 12,
    "start_time": "2024-07-19T11:12:43.205Z"
   },
   {
    "duration": 5,
    "start_time": "2024-07-19T11:12:45.163Z"
   },
   {
    "duration": 7,
    "start_time": "2024-07-19T11:12:46.724Z"
   },
   {
    "duration": 5,
    "start_time": "2024-07-19T11:12:47.843Z"
   },
   {
    "duration": 50,
    "start_time": "2024-07-19T11:12:50.497Z"
   },
   {
    "duration": 12,
    "start_time": "2024-07-19T11:12:51.887Z"
   },
   {
    "duration": 4,
    "start_time": "2024-07-19T11:12:54.536Z"
   },
   {
    "duration": 13,
    "start_time": "2024-07-19T11:12:56.698Z"
   },
   {
    "duration": 21,
    "start_time": "2024-07-19T11:12:58.358Z"
   },
   {
    "duration": 18,
    "start_time": "2024-07-19T11:13:00.203Z"
   },
   {
    "duration": 4,
    "start_time": "2024-07-19T11:13:02.047Z"
   },
   {
    "duration": 11,
    "start_time": "2024-07-19T11:13:04.867Z"
   },
   {
    "duration": 6,
    "start_time": "2024-07-19T11:13:07.153Z"
   },
   {
    "duration": 4,
    "start_time": "2024-07-19T11:13:09.408Z"
   },
   {
    "duration": 10,
    "start_time": "2024-07-19T11:13:11.597Z"
   },
   {
    "duration": 13,
    "start_time": "2024-07-19T11:13:14.770Z"
   },
   {
    "duration": 5,
    "start_time": "2024-07-19T11:13:17.446Z"
   },
   {
    "duration": 149,
    "start_time": "2024-07-19T11:13:19.154Z"
   },
   {
    "duration": 266,
    "start_time": "2024-07-19T11:13:23.270Z"
   },
   {
    "duration": 160,
    "start_time": "2024-07-19T11:13:47.324Z"
   },
   {
    "duration": 17,
    "start_time": "2024-07-19T11:52:29.638Z"
   },
   {
    "duration": 26,
    "start_time": "2024-07-19T11:55:03.855Z"
   },
   {
    "duration": 723,
    "start_time": "2024-07-19T11:55:20.529Z"
   },
   {
    "duration": 760,
    "start_time": "2024-07-19T11:55:46.641Z"
   },
   {
    "duration": 29,
    "start_time": "2024-07-19T11:56:50.997Z"
   },
   {
    "duration": 19,
    "start_time": "2024-07-19T11:57:00.218Z"
   },
   {
    "duration": 32,
    "start_time": "2024-07-19T11:57:34.430Z"
   },
   {
    "duration": 23,
    "start_time": "2024-07-19T11:58:10.355Z"
   },
   {
    "duration": 20,
    "start_time": "2024-07-19T11:58:34.868Z"
   },
   {
    "duration": 32,
    "start_time": "2024-07-19T11:59:01.670Z"
   },
   {
    "duration": 23,
    "start_time": "2024-07-19T12:00:18.300Z"
   },
   {
    "duration": 21,
    "start_time": "2024-07-19T12:00:54.390Z"
   },
   {
    "duration": 390,
    "start_time": "2024-07-19T12:01:18.201Z"
   },
   {
    "duration": 27,
    "start_time": "2024-07-19T12:01:26.805Z"
   },
   {
    "duration": 20,
    "start_time": "2024-07-19T12:02:47.727Z"
   },
   {
    "duration": 21,
    "start_time": "2024-07-19T12:03:11.046Z"
   },
   {
    "duration": 17,
    "start_time": "2024-07-19T12:03:36.130Z"
   },
   {
    "duration": 77,
    "start_time": "2024-07-19T12:03:49.394Z"
   },
   {
    "duration": 21,
    "start_time": "2024-07-19T12:03:56.443Z"
   },
   {
    "duration": 30,
    "start_time": "2024-07-19T12:04:30.097Z"
   },
   {
    "duration": 20,
    "start_time": "2024-07-19T12:05:42.950Z"
   },
   {
    "duration": 18,
    "start_time": "2024-07-19T12:06:27.030Z"
   },
   {
    "duration": 19,
    "start_time": "2024-07-19T12:08:12.201Z"
   },
   {
    "duration": 19,
    "start_time": "2024-07-19T12:08:31.213Z"
   },
   {
    "duration": 23,
    "start_time": "2024-07-19T12:11:06.711Z"
   },
   {
    "duration": 19,
    "start_time": "2024-07-19T12:12:59.584Z"
   },
   {
    "duration": 20,
    "start_time": "2024-07-19T12:13:15.113Z"
   },
   {
    "duration": 32,
    "start_time": "2024-07-19T12:13:49.849Z"
   },
   {
    "duration": 20,
    "start_time": "2024-07-19T12:14:56.314Z"
   },
   {
    "duration": 31,
    "start_time": "2024-07-19T12:17:01.577Z"
   },
   {
    "duration": 18,
    "start_time": "2024-07-19T12:17:16.917Z"
   },
   {
    "duration": 29,
    "start_time": "2024-07-19T12:17:28.025Z"
   },
   {
    "duration": 20,
    "start_time": "2024-07-19T12:17:38.949Z"
   },
   {
    "duration": 20,
    "start_time": "2024-07-19T12:20:14.861Z"
   },
   {
    "duration": 20,
    "start_time": "2024-07-19T12:20:48.259Z"
   },
   {
    "duration": 26,
    "start_time": "2024-07-19T12:21:16.726Z"
   },
   {
    "duration": 23,
    "start_time": "2024-07-19T12:21:45.875Z"
   },
   {
    "duration": 29,
    "start_time": "2024-07-19T12:22:13.926Z"
   },
   {
    "duration": 20,
    "start_time": "2024-07-19T12:22:21.154Z"
   },
   {
    "duration": 16,
    "start_time": "2024-07-19T12:35:48.684Z"
   },
   {
    "duration": 25,
    "start_time": "2024-07-19T12:35:50.677Z"
   },
   {
    "duration": 27,
    "start_time": "2024-07-19T12:36:20.607Z"
   },
   {
    "duration": 17,
    "start_time": "2024-07-19T12:37:32.903Z"
   },
   {
    "duration": 21,
    "start_time": "2024-07-19T12:37:54.968Z"
   },
   {
    "duration": 18,
    "start_time": "2024-07-19T12:38:03.013Z"
   },
   {
    "duration": 19,
    "start_time": "2024-07-19T12:38:12.546Z"
   },
   {
    "duration": 25,
    "start_time": "2024-07-19T12:44:02.748Z"
   },
   {
    "duration": 21,
    "start_time": "2024-07-19T12:49:48.141Z"
   },
   {
    "duration": 1385,
    "start_time": "2024-07-19T20:12:33.992Z"
   },
   {
    "duration": 21,
    "start_time": "2024-07-19T20:12:35.387Z"
   },
   {
    "duration": 22,
    "start_time": "2024-07-19T20:12:35.410Z"
   },
   {
    "duration": 15,
    "start_time": "2024-07-19T20:12:35.434Z"
   },
   {
    "duration": 89,
    "start_time": "2024-07-19T20:12:35.452Z"
   },
   {
    "duration": 4,
    "start_time": "2024-07-19T20:12:35.543Z"
   },
   {
    "duration": 27,
    "start_time": "2024-07-19T20:12:35.549Z"
   },
   {
    "duration": 15,
    "start_time": "2024-07-19T20:12:35.583Z"
   },
   {
    "duration": 7,
    "start_time": "2024-07-19T20:12:35.600Z"
   },
   {
    "duration": 10,
    "start_time": "2024-07-19T20:12:35.608Z"
   },
   {
    "duration": 57,
    "start_time": "2024-07-19T20:12:35.619Z"
   },
   {
    "duration": 24,
    "start_time": "2024-07-19T20:12:35.684Z"
   },
   {
    "duration": 11,
    "start_time": "2024-07-19T20:12:35.710Z"
   },
   {
    "duration": 19,
    "start_time": "2024-07-19T20:12:35.725Z"
   },
   {
    "duration": 39,
    "start_time": "2024-07-19T20:12:35.746Z"
   },
   {
    "duration": 27,
    "start_time": "2024-07-19T20:12:35.791Z"
   },
   {
    "duration": 25,
    "start_time": "2024-07-19T20:12:35.820Z"
   },
   {
    "duration": 15,
    "start_time": "2024-07-19T20:12:35.847Z"
   },
   {
    "duration": 12,
    "start_time": "2024-07-19T20:12:35.864Z"
   },
   {
    "duration": 9,
    "start_time": "2024-07-19T20:12:35.877Z"
   },
   {
    "duration": 29,
    "start_time": "2024-07-19T20:12:35.889Z"
   },
   {
    "duration": 30,
    "start_time": "2024-07-19T20:12:35.921Z"
   },
   {
    "duration": 7,
    "start_time": "2024-07-19T20:12:35.953Z"
   },
   {
    "duration": 201,
    "start_time": "2024-07-19T20:12:35.962Z"
   },
   {
    "duration": 215,
    "start_time": "2024-07-19T20:12:36.170Z"
   },
   {
    "duration": 11,
    "start_time": "2024-07-19T20:12:36.391Z"
   },
   {
    "duration": 33,
    "start_time": "2024-07-19T20:12:36.404Z"
   },
   {
    "duration": 7,
    "start_time": "2024-07-19T20:12:36.439Z"
   },
   {
    "duration": 53,
    "start_time": "2024-07-19T20:12:36.448Z"
   },
   {
    "duration": 17,
    "start_time": "2024-07-19T20:12:36.502Z"
   },
   {
    "duration": 27,
    "start_time": "2024-07-19T20:12:36.521Z"
   },
   {
    "duration": 128,
    "start_time": "2024-07-19T20:31:55.968Z"
   },
   {
    "duration": 64,
    "start_time": "2024-07-19T20:32:56.440Z"
   },
   {
    "duration": 303,
    "start_time": "2024-07-19T20:33:09.061Z"
   },
   {
    "duration": 7,
    "start_time": "2024-07-19T20:38:59.735Z"
   }
  ],
  "colab": {
   "provenance": []
  },
  "kernelspec": {
   "display_name": "Python 3 (ipykernel)",
   "language": "python",
   "name": "python3"
  },
  "language_info": {
   "codemirror_mode": {
    "name": "ipython",
    "version": 3
   },
   "file_extension": ".py",
   "mimetype": "text/x-python",
   "name": "python",
   "nbconvert_exporter": "python",
   "pygments_lexer": "ipython3",
   "version": "3.12.0"
  },
  "toc": {
   "base_numbering": 1,
   "nav_menu": {},
   "number_sections": true,
   "sideBar": true,
   "skip_h1_title": true,
   "title_cell": "Table of Contents",
   "title_sidebar": "Contents",
   "toc_cell": false,
   "toc_position": {
    "height": "calc(100% - 180px)",
    "left": "10px",
    "top": "150px",
    "width": "252.545px"
   },
   "toc_section_display": true,
   "toc_window_display": true
  }
 },
 "nbformat": 4,
 "nbformat_minor": 5
}
